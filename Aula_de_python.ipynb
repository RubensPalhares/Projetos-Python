{
  "cells": [
    {
      "cell_type": "markdown",
      "metadata": {
        "id": "view-in-github",
        "colab_type": "text"
      },
      "source": [
        "<a href=\"https://colab.research.google.com/github/RubensPalhares/Projetos-Python/blob/master/Aula_de_python.ipynb\" target=\"_parent\"><img src=\"https://colab.research.google.com/assets/colab-badge.svg\" alt=\"Open In Colab\"/></a>"
      ]
    },
    {
      "cell_type": "code",
      "execution_count": null,
      "metadata": {
        "colab": {
          "base_uri": "https://localhost:8080/"
        },
        "id": "IGxZniGaDiBs",
        "outputId": "12d66552-a603-4629-bf1b-d04733c6908d"
      },
      "outputs": [
        {
          "name": "stdout",
          "output_type": "stream",
          "text": [
            "5\n",
            "16\n",
            "3.3333333333333335\n",
            "3\n"
          ]
        }
      ],
      "source": [
        "=#Operadores Aritméticos A linguagem Python nos permite criar expressões \n",
        "# matemáticas com imensa facilidade. No dia a dia, nem todos os programas\n",
        "# precisarão de expressões matemáticas complexas, mas é importante saber \n",
        "# como usar os operadores aritméticos do Python.\n",
        "# Soma e subtração\n",
        "print(10 + 2 - 7)\n",
        "# Potência: 2 ^ 4\n",
        "print(2 ** 4)\n",
        "# Divisão de ponto flutuante\n",
        "print(20 / 6)\n",
        "# Divisão inteira, sem considerar o resto\n",
        "print(20 // 6)"
      ]
    },
    {
      "cell_type": "code",
      "execution_count": null,
      "metadata": {
        "colab": {
          "base_uri": "https://localhost:8080/"
        },
        "id": "HbvBnNvD6ebX",
        "outputId": "c7924f83-f707-4284-f056-c4e86e5e1100"
      },
      "outputs": [
        {
          "name": "stdout",
          "output_type": "stream",
          "text": [
            "Digite algo: Rubens\n",
            "O tipo primitivo desse valor é <class 'str'>\n",
            "Só tem espaços? False\n",
            "É um número? False\n",
            "É alfabético? True\n",
            "É alfanumérico? True\n",
            "Esta em maiúsculas? False\n",
            "Esta em minúsculas? False\n",
            "Esta capilatizado? True\n"
          ]
        }
      ],
      "source": [
        "#   Exercício Python 004 - Dissecando uma Variável\n",
        "#   Faça um programa que leia algo pelo teclado\n",
        "#   e mostre na tela o seu tipo primitivo e todas as informações possíveis sobre ele.\n",
        "\n",
        "frase = str(input(\"Digite algo: \"))\n",
        "\n",
        "print(\"O tipo primitivo desse valor é {}\".format(type(frase)))\n",
        "print(\"Só tem espaços? {}\".format(frase.isspace()))\n",
        "print(\"É um número? {}\".format(frase.isnumeric()))\n",
        "print(\"É alfabético? {}\".format(frase.isalpha()))\n",
        "print(\"É alfanumérico? {}\".format(frase.isalnum()))\n",
        "print(\"Esta em maiúsculas? {}\".format(frase.isupper()))\n",
        "print(\"Esta em minúsculas? {}\".format(frase.islower()))\n",
        "print(\"Esta capilatizado? {}\".format(frase.istitle()))"
      ]
    },
    {
      "cell_type": "code",
      "execution_count": null,
      "metadata": {
        "id": "m2uZG9py6xaN"
      },
      "outputs": [],
      "source": [
        "\n",
        "def menu():\n",
        "    continuar=1\n",
        "    while continuar:\n",
        "        continuar = int(input(\"0. Sair \\n\"+\n",
        "                              \"1. Jogar novamente\\n\"))\n",
        "        if continuar:\n",
        "            game()\n",
        "        else:\n",
        "            print(\"Saindo...\")\n",
        "\n",
        "def game():\n",
        "    jogada=0\n",
        "\n",
        "    while ganhou() == 0:\n",
        "        print(\"\\nJogador \", jogada%2 + 1)\n",
        "        exibe()\n",
        "        linha  = int(input(\"\\nLinha :\"))\n",
        "        coluna = int(input(\"Coluna:\"))\n",
        "\n",
        "        if board[linha-1][coluna-1] == 0:\n",
        "            if(jogada%2+1)==1:\n",
        "                board[linha-1][coluna-1]=1\n",
        "            else:\n",
        "                board[linha-1][coluna-1]=-1\n",
        "        else:\n",
        "            print(\"Nao esta vazio\")\n",
        "            jogada -=1\n",
        "\n",
        "        if ganhou():\n",
        "            print(\"Jogador \",jogada%2 + 1,\" ganhou apos \", jogada+1,\" rodadas\")\n",
        "\n",
        "        jogada +=1\n",
        "    \n",
        "def ganhou():\n",
        "    #checando linhas\n",
        "    for i in range(3):\n",
        "        soma = board[i][0]+board[i][1]+board[i][2]\n",
        "        if soma==3 or soma ==-3:\n",
        "            return 1\n",
        "\n",
        "     #checando colunas\n",
        "    for i in range(3):\n",
        "        soma = board[0][i]+board[1][i]+board[2][i]\n",
        "        if soma==3 or soma ==-3:\n",
        "            return 1\n",
        "\n",
        "    #checando diagonais\n",
        "    diagonal1 = board[0][0]+board[1][1]+board[2][2]\n",
        "    diagonal2 = board[0][2]+board[1][1]+board[2][0]\n",
        "    if diagonal1==3 or diagonal1==-3 or diagonal2==3 or diagonal2==-3:\n",
        "        return 1\n",
        "\n",
        "    return 0\n",
        "\n",
        "def exibe():\n",
        "    for i in range(3):\n",
        "        for j in range(3):\n",
        "            if board[i][j] == 0:\n",
        "                print(\" _ \", end=' ')\n",
        "            elif board[i][j] == 1:\n",
        "                print(\" X \", end=' ')\n",
        "            elif board[i][j] == -1:\n",
        "                print(\" O \", end=' ')\n",
        "\n",
        "        print()\n",
        "                \n",
        "\n",
        "board= [ [0,0,0],\n",
        "         [0,0,0],\n",
        "         [0,0,0] ]\n",
        "\n",
        "menu()"
      ]
    },
    {
      "cell_type": "code",
      "execution_count": null,
      "metadata": {
        "colab": {
          "base_uri": "https://localhost:8080/"
        },
        "id": "QuK6w097KbV7",
        "outputId": "d3b43266-c2e3-44c3-83dd-a1c35ca0ee8c"
      },
      "outputs": [
        {
          "name": "stdout",
          "output_type": "stream",
          "text": [
            "720\n"
          ]
        }
      ],
      "source": [
        "n = 6\n",
        "fatorial = 1\n",
        "while n > 1:\n",
        "  fatorial *= n \n",
        "  n -= 1 \n",
        "print(fatorial)"
      ]
    },
    {
      "cell_type": "code",
      "execution_count": null,
      "metadata": {
        "id": "DOXg1s0zK7DA"
      },
      "outputs": [],
      "source": [
        "# Exemplo de função que retorna um valor.\n",
        "def f(n):\n",
        "    return n \n",
        "resultado = f(10)\n",
        "print(\"O valor do parâmetro é {}\".format(resultado))"
      ]
    },
    {
      "cell_type": "code",
      "execution_count": null,
      "metadata": {
        "id": "md95g7LHLLyd"
      },
      "outputs": [],
      "source": [
        "# Outro exemplo de função que retorna um valor.\n",
        "def eleva_ao_quadrado(n):\n",
        " return n ** 2\n",
        "print(\"O número {} elevado ao quadrado é {}\".format(10, eleva_ao_quadrado(10)))"
      ]
    },
    {
      "cell_type": "code",
      "execution_count": null,
      "metadata": {
        "id": "fstJjISWLXqP"
      },
      "outputs": [],
      "source": [
        "# Exemplo de função que retorna mais de um valor.\n",
        "def quociente_resto(x, y):\n",
        "    quociente = x // y\n",
        "    resto = x % y\n",
        "    return (quociente, resto)\n",
        "\n",
        "print(\"Quociente e resto: \", quociente_resto(9, 4))"
      ]
    },
    {
      "cell_type": "code",
      "execution_count": null,
      "metadata": {
        "colab": {
          "base_uri": "https://localhost:8080/"
        },
        "id": "TEJstBdoLtBD",
        "outputId": "e9321712-2786-425c-9c46-f13d35135221"
      },
      "outputs": [
        {
          "name": "stdout",
          "output_type": "stream",
          "text": [
            "O fatorial de 6 é 720\n"
          ]
        }
      ],
      "source": [
        "# Exemplo mais elaborado de função em Python.\n",
        "def fatorial(n):\n",
        "    fat = 1\n",
        "    while n > 1:\n",
        "        fat *= n\n",
        "        n -= 1\n",
        "    return fat\n",
        "print(\"O fatorial de {} é {}\".format(6, fatorial(6)))"
      ]
    },
    {
      "cell_type": "code",
      "execution_count": null,
      "metadata": {
        "id": "zb-ohtWAfqV0"
      },
      "outputs": [],
      "source": [
        "a = 5\n",
        "b = 8 \n",
        "soma = a + b \n",
        "print(soma)"
      ]
    },
    {
      "cell_type": "code",
      "execution_count": null,
      "metadata": {
        "id": "K8f3KlVn0O7V"
      },
      "outputs": [],
      "source": [
        "raio = float(input('Entre com o valor do raio, para obter a circuferência do círculo: '))\n",
        "\n",
        "circunferencia = 2 * 3.14 * raio\n",
        "\n",
        "print(\"A circuferência do círculo: {:.2f}\".format(circunferencia))\n"
      ]
    },
    {
      "cell_type": "code",
      "execution_count": null,
      "metadata": {
        "colab": {
          "base_uri": "https://localhost:8080/"
        },
        "id": "RzrHtzQcgJte",
        "outputId": "c80f082e-abc2-4d2e-c772-03582046c27a"
      },
      "outputs": [
        {
          "name": "stdout",
          "output_type": "stream",
          "text": [
            "A soma é:  13  O quadrado é: 169\n"
          ]
        }
      ],
      "source": [
        "a = 5\n",
        "b = 8 \n",
        "soma = a + b \n",
        "quadrado = soma**2\n",
        "print( 'A soma é: ', soma, ' O quadrado é:',quadrado )"
      ]
    },
    {
      "cell_type": "code",
      "execution_count": null,
      "metadata": {
        "colab": {
          "base_uri": "https://localhost:8080/"
        },
        "id": "FmGsFEsThaM2",
        "outputId": "060248b7-e015-42e8-bb38-336ae7212ee2"
      },
      "outputs": [
        {
          "name": "stdout",
          "output_type": "stream",
          "text": [
            "A soma não é 13\n"
          ]
        }
      ],
      "source": [
        "a = 5\n",
        "b = 7\n",
        "soma = a + b \n",
        "if soma == 13:\n",
        "  print('A soma é 13')\n",
        "else:\n",
        "  print('A soma não é 13')"
      ]
    },
    {
      "cell_type": "code",
      "execution_count": null,
      "metadata": {
        "colab": {
          "base_uri": "https://localhost:8080/"
        },
        "id": "SrafEqvXP-Vr",
        "outputId": "4819640a-c88a-42b1-c508-2a515e450a8d"
      },
      "outputs": [
        {
          "name": "stdout",
          "output_type": "stream",
          "text": [
            "Total soma =  8\n",
            "Total principal =  10\n"
          ]
        }
      ],
      "source": [
        "def soma(x,y):\n",
        " total = x+y\n",
        " print(\"Total soma = \",total)\n",
        "#programa principal\n",
        "total = 10\n",
        "soma(3,5)\n",
        "print(\"Total principal = \",total)"
      ]
    },
    {
      "cell_type": "code",
      "execution_count": null,
      "metadata": {
        "id": "ekh2k0TSMzNf"
      },
      "outputs": [],
      "source": [
        ""
      ]
    },
    {
      "cell_type": "code",
      "execution_count": null,
      "metadata": {
        "colab": {
          "base_uri": "https://localhost:8080/"
        },
        "id": "3ECrbL8E0Slk",
        "outputId": "5c411b4f-4d2f-4601-c949-82d910ff9c08"
      },
      "outputs": [
        {
          "name": "stdout",
          "output_type": "stream",
          "text": [
            "FHA DESENVOLVIMENTO DE SISTEMAS \n"
          ]
        }
      ],
      "source": [
        "nome= 'FHA DESENVOLVIMENTO DE SISTEMAS '\n",
        "print (nome) "
      ]
    },
    {
      "cell_type": "code",
      "execution_count": null,
      "metadata": {
        "id": "tthoKgCQAGX3"
      },
      "outputs": [],
      "source": [
        ""
      ]
    },
    {
      "cell_type": "code",
      "execution_count": null,
      "metadata": {
        "colab": {
          "base_uri": "https://localhost:8080/"
        },
        "id": "emOacnmqoopn",
        "outputId": "3f2b4be9-9157-43aa-8c6f-06044682fdc1"
      },
      "outputs": [
        {
          "name": "stdout",
          "output_type": "stream",
          "text": [
            "Informe o lado do quadrado88\n",
            "A área é do Quadrado é: 88.0 e o dobro é  176.0\n"
          ]
        }
      ],
      "source": [
        "# 7) Faça um Programa que calcule a área de um quadrado, \n",
        "#em seguida mostre o dobro desta área para o usuário.  \n",
        "#valor do quadrado  é 45. Qual o valor da multiplicação ? \n",
        "#( utilize a plataforma Colaboratory digite o codigo e veja o resultado) \n",
        "\n",
        "lado = float(input(\"Informe o lado do quadrado\"))\n",
        "area = lado  \n",
        "dobro = (area * 2)\n",
        "print(\"A área é do Quadrado é:\",area,\"e o dobro é \", dobro)\n"
      ]
    },
    {
      "cell_type": "code",
      "execution_count": null,
      "metadata": {
        "colab": {
          "base_uri": "https://localhost:8080/"
        },
        "id": "sdjm1kpF12aE",
        "outputId": "e24dc955-7796-4fc2-94fe-0d0e6b4919f6"
      },
      "outputs": [
        {
          "data": {
            "text/plain": [
              "66"
            ]
          },
          "execution_count": 30,
          "metadata": {},
          "output_type": "execute_result"
        }
      ],
      "source": [
        "idade = 66\n",
        "idade"
      ]
    },
    {
      "cell_type": "code",
      "execution_count": null,
      "metadata": {
        "id": "HMstqlqx6eYC"
      },
      "outputs": [],
      "source": [
        "def hello(meu_nome):\n",
        "  print('ola', meu_nome)\n",
        "  hello('Fabio')\n",
        "  meu_nome"
      ]
    },
    {
      "cell_type": "code",
      "execution_count": null,
      "metadata": {
        "colab": {
          "base_uri": "https://localhost:8080/"
        },
        "id": "6jAFvP1MEBHE",
        "outputId": "81584228-9d87-4645-8d7a-4a23d1fbd6d2"
      },
      "outputs": [
        {
          "name": "stdout",
          "output_type": "stream",
          "text": [
            "Bem vindo povo interessado em python!\n"
          ]
        }
      ],
      "source": [
        "print ('Bem vindo povo interessado em python!' )"
      ]
    },
    {
      "cell_type": "markdown",
      "metadata": {
        "id": "fawVWmwDFARQ"
      },
      "source": [
        "Vamos trabalhar os conseitos iniciais de phyton \n"
      ]
    },
    {
      "cell_type": "markdown",
      "metadata": {
        "id": "WYtMrB4HFaDq"
      },
      "source": [
        "## variaveis em boolean"
      ]
    },
    {
      "cell_type": "code",
      "execution_count": null,
      "metadata": {
        "colab": {
          "base_uri": "https://localhost:8080/"
        },
        "id": "4F5-NidyCyJp",
        "outputId": "8d0e8b0e-5fe6-4ce0-a853-bbecec39501c"
      },
      "outputs": [
        {
          "name": "stdout",
          "output_type": "stream",
          "text": [
            "[9.0, 8.0, 10.0, 7.0, 7.5, 10.0, 7.0, 7.0, 8.0, 8.0, 7.5]\n"
          ]
        }
      ],
      "source": [
        "notas = [0, 0, 9.0, 8.0, 5.0, 10.0, 7.0, 7.5, 4.0, 10.0, 7.0, 7.0, 8.0, 8.0, 7.5]\n",
        "notas_validas = [nota for nota in notas if nota > 6.0]\n",
        "print(notas_validas)"
      ]
    },
    {
      "cell_type": "code",
      "execution_count": null,
      "metadata": {
        "colab": {
          "base_uri": "https://localhost:8080/"
        },
        "id": "jHxs2bRzFGCG",
        "outputId": "5788bd5c-66d3-4ba7-efa0-7464a305b83d"
      },
      "outputs": [
        {
          "name": "stdout",
          "output_type": "stream",
          "text": [
            "8.833333333333334\n",
            "3\n",
            "8\n"
          ]
        }
      ],
      "source": [
        "[9.0, 8.0, 5.0, 10.0, 7.0, 7.5, 4.0, 10.0, 7.0, 7.0, 8.0, 8.0, 7.5]\n",
        "media_valida = sum(notas_validas) / len(notas_validas)\n",
        "print(media_valida)\n",
        "qtd_de_setes = notas.count(7.0)\n",
        "print(qtd_de_setes)\n",
        "qtd_alunos_na_media = notas.count(7.0) + notas.count(7.5) + notas.count(8.0)\n",
        "print(qtd_alunos_na_media)\n",
        "\n",
        "\n"
      ]
    },
    {
      "cell_type": "code",
      "execution_count": null,
      "metadata": {
        "id": "A-bMsl11KhKp"
      },
      "outputs": [],
      "source": [
        "B = ['A','C','D','H']\n",
        "B"
      ]
    },
    {
      "cell_type": "code",
      "execution_count": null,
      "metadata": {
        "id": "S5fzPpatKzau"
      },
      "outputs": [],
      "source": [
        "lista1 = ['a', 'b', 'c'] # união das listas\n",
        "lista2 = [ 'd', 'e', 'f', 'g']\n",
        "uniao = lista1 + lista2 \n",
        "print(uniao)"
      ]
    },
    {
      "cell_type": "code",
      "execution_count": null,
      "metadata": {
        "id": "f8F7SsLZLrdH"
      },
      "outputs": [],
      "source": [
        "h =  [0,1,2] # repetir elementos de uma lista usando o operador\n",
        "h*4"
      ]
    },
    {
      "cell_type": "code",
      "execution_count": null,
      "metadata": {
        "colab": {
          "base_uri": "https://localhost:8080/"
        },
        "id": "Fdv3fVVOONia",
        "outputId": "84f8d231-7d43-4c7d-c768-5185e4703061"
      },
      "outputs": [
        {
          "data": {
            "text/plain": [
              "[1, 2, 3, 4, 5]"
            ]
          },
          "execution_count": 10,
          "metadata": {},
          "output_type": "execute_result"
        }
      ],
      "source": [
        "#contruir lista com construtor list() \n",
        "tupla = (1,2,3,4,5)\n",
        "lista = list(tupla)\n",
        "lista"
      ]
    },
    {
      "cell_type": "code",
      "execution_count": null,
      "metadata": {
        "colab": {
          "base_uri": "https://localhost:8080/"
        },
        "id": "7h6yvB9YzTK6",
        "outputId": "cd6af5df-0c4b-48ef-fc95-4a9727c91cce"
      },
      "outputs": [
        {
          "name": "stdout",
          "output_type": "stream",
          "text": [
            "3\n"
          ]
        }
      ],
      "source": [
        "notas = [0, 0, 9.0, 8.0, 5.0, 10.0, 7.0, 7.5, 4.0, 10.0, 7.0, 7.0, 8.0, 8.0, 7.5]\n",
        "\n",
        "qtd_alunos_na_media = 0\n",
        "for nota in notas:\n",
        " if 6.0 <= nota <= 7.0:\n",
        "  qtd_alunos_na_media += 1\n",
        "print(qtd_alunos_na_media)"
      ]
    },
    {
      "cell_type": "code",
      "execution_count": null,
      "metadata": {
        "colab": {
          "base_uri": "https://localhost:8080/"
        },
        "id": "iJdggf0YRNSR",
        "outputId": "9d32cda5-5b5a-48b5-8934-4987c1c08510"
      },
      "outputs": [
        {
          "name": "stdout",
          "output_type": "stream",
          "text": [
            "2*1 = 2\n",
            "2*2 = 4\n",
            "2*3 = 6\n",
            "2*4 = 8\n",
            "2*5 = 10\n",
            "2*6 = 12\n",
            "2*7 = 14\n",
            "2*8 = 16\n",
            "2*9 = 18\n",
            "2*10 = 20\n"
          ]
        }
      ],
      "source": [
        "# tabuada do 2 com laço de repetição for\n",
        "for i in range(1,11):\n",
        "  print(f\"2*{i} = {2*i}\")"
      ]
    },
    {
      "cell_type": "code",
      "execution_count": null,
      "metadata": {
        "id": "yl1-jQXmi2lt"
      },
      "outputs": [],
      "source": [
        ""
      ]
    },
    {
      "cell_type": "code",
      "execution_count": null,
      "metadata": {
        "colab": {
          "base_uri": "https://localhost:8080/"
        },
        "id": "_FrLGirWlfvW",
        "outputId": "c4ef8505-cf2e-4d00-b18f-bf230f70acd2"
      },
      "outputs": [
        {
          "name": "stdout",
          "output_type": "stream",
          "text": [
            "Informe o lado do quadrado7\n",
            "A área é do Quadrado é:  49.0 e o dobro é  98.0\n"
          ]
        }
      ],
      "source": [
        "lado = float(input(\"Informe o lado do quadrado\"))\n",
        "area = lado * lado\n",
        "dobro = area * 2\n",
        "print(\"A área é do Quadrado é: \",area, \"e o dobro é \", dobro)"
      ]
    },
    {
      "cell_type": "markdown",
      "metadata": {
        "id": "ok7Ad9vxFyYT"
      },
      "source": [
        "### Atribuição de Variaveis. "
      ]
    },
    {
      "cell_type": "code",
      "execution_count": null,
      "metadata": {
        "colab": {
          "base_uri": "https://localhost:8080/"
        },
        "id": "IvW5rp4fGBAa",
        "outputId": "c3e3f9db-0810-4745-bf63-85b76bd68db0"
      },
      "outputs": [
        {
          "name": "stdout",
          "output_type": "stream",
          "text": [
            "Rubens Palhares\n"
          ]
        }
      ],
      "source": [
        "meu_nome = 'Rubens Palhares'\n",
        "print (meu_nome)\n",
        "\n"
      ]
    },
    {
      "cell_type": "code",
      "execution_count": null,
      "metadata": {
        "colab": {
          "base_uri": "https://localhost:8080/"
        },
        "id": "fy0vYAqombke",
        "outputId": "34b3ead1-94e2-4bc1-e81f-5d4d7e5eeaac"
      },
      "outputs": [
        {
          "name": "stdout",
          "output_type": "stream",
          "text": [
            "Bem vindo ao Desenvolvimento de Sistemas\n",
            "Bem vindo ao Desenvolvimento de Sistemas\n",
            "Bem vindo ao Desenvolvimento de Sistemas\n",
            "Bem vindo ao Desenvolvimento de Sistemas\n",
            "Bem vindo ao Desenvolvimento de Sistemas\n",
            "Bem vindo ao Desenvolvimento de Sistemas\n",
            "Bem vindo ao Desenvolvimento de Sistemas\n",
            "Bem vindo ao Desenvolvimento de Sistemas\n"
          ]
        }
      ],
      "source": [
        "for n in range(8):\n",
        "  print('Bem vindo ao Desenvolvimento de Sistemas')"
      ]
    },
    {
      "cell_type": "code",
      "execution_count": null,
      "metadata": {
        "colab": {
          "base_uri": "https://localhost:8080/"
        },
        "id": "3jtFLlSjmGc2",
        "outputId": "3c19dc56-0032-40fb-e61b-c221b0a95d7f"
      },
      "outputs": [
        {
          "name": "stdout",
          "output_type": "stream",
          "text": [
            "0\n",
            "1\n",
            "2\n",
            "3\n",
            "4\n",
            "5\n",
            "6\n",
            "7\n"
          ]
        }
      ],
      "source": [
        "for n in range(8):\n",
        "  print(n)"
      ]
    },
    {
      "cell_type": "code",
      "execution_count": null,
      "metadata": {
        "colab": {
          "base_uri": "https://localhost:8080/"
        },
        "id": "00kIcxE2myOh",
        "outputId": "9770694d-dda9-42b5-f090-e4bfd9686f10"
      },
      "outputs": [
        {
          "name": "stdout",
          "output_type": "stream",
          "text": [
            "14\n",
            "20\n",
            "5.333333333333333\n",
            "8\n"
          ]
        }
      ],
      "source": [
        "print(8+6)\n",
        "print(5*4)\n",
        "print(16/3)\n",
        "print(2**3)"
      ]
    },
    {
      "cell_type": "code",
      "execution_count": null,
      "metadata": {
        "colab": {
          "base_uri": "https://localhost:8080/"
        },
        "id": "jI4EpCuvq8yU",
        "outputId": "551c5fab-99f7-4a39-ba89-eda14b0c0754"
      },
      "outputs": [
        {
          "name": "stdout",
          "output_type": "stream",
          "text": [
            "5\n"
          ]
        }
      ],
      "source": [
        "# operação mostra o resultado inteiro\n",
        "print(16//3)"
      ]
    },
    {
      "cell_type": "code",
      "execution_count": null,
      "metadata": {
        "colab": {
          "base_uri": "https://localhost:8080/"
        },
        "id": "aflHH-l5rT9k",
        "outputId": "2474feff-0fa6-4039-9c8c-002a79f6ede3"
      },
      "outputs": [
        {
          "name": "stdout",
          "output_type": "stream",
          "text": [
            "1\n"
          ]
        }
      ],
      "source": [
        "\n",
        "# operação que mostra o resto da divisão \n",
        "print(5%2)"
      ]
    },
    {
      "cell_type": "code",
      "execution_count": null,
      "metadata": {
        "colab": {
          "base_uri": "https://localhost:8080/"
        },
        "id": "pOPX3oiBsi8Z",
        "outputId": "bb28aa66-0796-4624-cc62-0a1a21f4c8cc"
      },
      "outputs": [
        {
          "name": "stdout",
          "output_type": "stream",
          "text": [
            "440\n"
          ]
        }
      ],
      "source": [
        "variavel1 = 53\n",
        "variavel2 = 74\n",
        "variavel3 = 98\n",
        "variavel4 = 440\n",
        "print(variavel4)"
      ]
    },
    {
      "cell_type": "code",
      "execution_count": null,
      "metadata": {
        "colab": {
          "base_uri": "https://localhost:8080/"
        },
        "id": "EfnWnJ0YtV7Z",
        "outputId": "7585a63b-61a6-4159-8587-21d8893a5bbf"
      },
      "outputs": [
        {
          "name": "stdout",
          "output_type": "stream",
          "text": [
            "Infomorme sua data de nascimento\n",
            "Dia7\n",
            "Mês7\n",
            "Ano23456\n",
            "Você nasceu dia 7 Mês 7 Ano 23456\n"
          ]
        }
      ],
      "source": [
        "#crie um script python que leia o dia, mês e o ano de\n",
        "# nascimento de uma pessoa e mostre uma mensagem com\n",
        "# a data formatada.\n",
        "print('Informe sua data de nascimento')\n",
        "dia = input('Dia')\n",
        "mês = input('Mês')\n",
        "ano = input('Ano')\n",
        "print('Você nasceu dia', dia , 'Mês', mês ,'Ano', ano)"
      ]
    },
    {
      "cell_type": "code",
      "execution_count": null,
      "metadata": {
        "colab": {
          "base_uri": "https://localhost:8080/"
        },
        "id": "SPH2pWHxLkWz",
        "outputId": "74f3fc8b-a0e2-4ac5-839b-56a2877d05f4"
      },
      "outputs": [
        {
          "name": "stdout",
          "output_type": "stream",
          "text": [
            "5.0\n"
          ]
        }
      ],
      "source": [
        "# Cálculo da área de um triangulo.\n",
        "base = 2\n",
        "altura = 5\n",
        "area = (base * altura) / 2\n",
        "print(area)"
      ]
    },
    {
      "cell_type": "code",
      "execution_count": null,
      "metadata": {
        "colab": {
          "base_uri": "https://localhost:8080/"
        },
        "id": "HB8NBSn7MKjA",
        "outputId": "d89f99aa-ec01-4f17-9e85-9c82cb1f99c4"
      },
      "outputs": [
        {
          "name": "stdout",
          "output_type": "stream",
          "text": [
            "A condicao é falsa.\n"
          ]
        }
      ],
      "source": [
        "condicao = False\n",
        "\n",
        "if condicao == True:\n",
        "    print(\"A condicao é verdadeira.\")\n",
        "else:\n",
        "    print(\"A condicao é falsa.\")"
      ]
    },
    {
      "cell_type": "code",
      "execution_count": null,
      "metadata": {
        "colab": {
          "base_uri": "https://localhost:8080/"
        },
        "id": "KWrcNxv8MS1B",
        "outputId": "03861e80-02df-4972-bf40-7caf3d753b93"
      },
      "outputs": [
        {
          "name": "stdout",
          "output_type": "stream",
          "text": [
            "As condições condicao_1 e condicao_2 são falsas.\n"
          ]
        }
      ],
      "source": [
        "condicao_1 = False\n",
        "condicao_2 = False\n",
        "\n",
        "if condicao_1:\n",
        "  print(\"A condicao_1 é verdadeira.\")\n",
        "elif condicao_2:\n",
        "  print(\"A condicao_2 é verdadeira.\")\n",
        "else:\n",
        "  print(\"As condições condicao_1 e condicao_2 são falsas.\")"
      ]
    },
    {
      "cell_type": "markdown",
      "metadata": {
        "id": "vPw7Xas424sD"
      },
      "source": [
        ""
      ]
    },
    {
      "cell_type": "code",
      "execution_count": null,
      "metadata": {
        "colab": {
          "base_uri": "https://localhost:8080/"
        },
        "id": "M3acBgBKW5W0",
        "outputId": "76f9d992-9b05-4ec3-adaf-ca3eb0ba9775"
      },
      "outputs": [
        {
          "name": "stdout",
          "output_type": "stream",
          "text": [
            "Digite o primero número 66\n",
            "Digite o segundo número 88\n",
            "A soma dos seus números é:  154\n"
          ]
        }
      ],
      "source": [
        "n1 = int(input('Digite o primero número '))\n",
        "n2 = int(input('Digite o segundo número '))\n",
        "s = n1+n2\n",
        "\n",
        "print(\"A soma dos seus números é: \", s)"
      ]
    },
    {
      "cell_type": "code",
      "execution_count": null,
      "metadata": {
        "id": "G-7mW6STXKVV"
      },
      "outputs": [],
      "source": [
        "n = int(input('Digite um número: '))\n",
        "a = n - 1\n",
        "s = n + 1\n",
        "print('Analisando o valor {}, seu antecessor é {} e o sucessor é {} '.format(n, a, s))\n",
        "\n",
        "print('Analisando o valor {}, seu antecessor é {} e o sucessor é {} '. format(n, (n-1), (n+1)))"
      ]
    },
    {
      "cell_type": "code",
      "execution_count": null,
      "metadata": {
        "id": "t5dziJtzXVdG"
      },
      "outputs": [],
      "source": [
        "n = int(input('Digite um número: '))\n",
        "a = n - 1\n",
        "s = n + 1\n",
        "print('Analisando o valor {}, seu antecessor é {} e o sucessor é {} '.format(n, a, s))\n",
        "\n",
        "print('Analisando o valor {}, seu antecessor é {} e o sucessor é {} '. format(n, (n-1), (n+1)))"
      ]
    },
    {
      "cell_type": "code",
      "execution_count": null,
      "metadata": {
        "colab": {
          "base_uri": "https://localhost:8080/"
        },
        "id": "5nxbnh5gYGvC",
        "outputId": "9124e1d4-5b82-4f48-e7ce-381bb2eb5c50"
      },
      "outputs": [
        {
          "name": "stdout",
          "output_type": "stream",
          "text": [
            "Quanto você tem na sua carteira? R$ 55\n",
            "Você tem R$ 55.00 reais que pode comprar U$ 10.44 dolar: \n"
          ]
        }
      ],
      "source": [
        "n = float(input('Quanto você tem na sua carteira? R$ '))\n",
        "c = n / 5.27\n",
        "print(\"Você tem R$ {:.2f} reais que pode comprar U$ {:.2f} dolar: \".format(n , c))"
      ]
    },
    {
      "cell_type": "code",
      "execution_count": null,
      "metadata": {
        "colab": {
          "base_uri": "https://localhost:8080/"
        },
        "id": "aD4oRhrwYX86",
        "outputId": "bf608664-b817-4057-8d2b-d69740f54f93"
      },
      "outputs": [
        {
          "name": "stdout",
          "output_type": "stream",
          "text": [
            "Digite uma distância em mêtros: 568\n",
            "A medida de 568.0 corresponde a 56800 cm e 568000 mm \n"
          ]
        }
      ],
      "source": [
        "\n",
        "\n",
        "\n",
        "\n",
        "medida = float(input('Digite uma distância em mêtros: '))\n",
        "cm = medida * 100\n",
        "mm = medida * 1000\n",
        "print('A medida de {} corresponde a {:.0f} cm e {:.0f} mm '.format(medida, cm, mm))"
      ]
    },
    {
      "cell_type": "code",
      "execution_count": null,
      "metadata": {
        "colab": {
          "base_uri": "https://localhost:8080/"
        },
        "id": "PJTr5QMSZP76",
        "outputId": "4ac15750-a9c0-47b8-9ee0-5981ec175ab5"
      },
      "outputs": [
        {
          "name": "stdout",
          "output_type": "stream",
          "text": [
            "Digite um numero inteiro 23\n",
            "O numero 23 é impar! \n"
          ]
        }
      ],
      "source": [
        "\n",
        "\n",
        "\n",
        "num = int(input(\"Digite um numero inteiro \"))\n",
        "if num % 2 == 0:\n",
        "    print('O numero {} é par! '.format(num))\n",
        "else:\n",
        "    print('O numero {} é impar! '. format(num))\n",
        "\n",
        "\n",
        "\n",
        "    "
      ]
    },
    {
      "cell_type": "code",
      "execution_count": null,
      "metadata": {
        "colab": {
          "base_uri": "https://localhost:8080/"
        },
        "id": "36NtIWXHH5FQ",
        "outputId": "2d0b0361-b0c4-4ce4-bb2b-d964cf5f7034"
      },
      "outputs": [
        {
          "name": "stdout",
          "output_type": "stream",
          "text": [
            "Esse é o código executado caso a declaração seja Falsa\n"
          ]
        }
      ],
      "source": [
        "\n",
        "\n",
        "\n",
        "\n",
        "if (True == False):\n",
        " print('Esse é o Código que será executado caso a declaração seja verdadeira')\n",
        "else:\n",
        " print('Esse é o código executado caso a declaração seja Falsa')\n",
        "\n",
        "\n",
        "\n",
        "\n",
        "\n"
      ]
    },
    {
      "cell_type": "code",
      "execution_count": null,
      "metadata": {
        "colab": {
          "base_uri": "https://localhost:8080/"
        },
        "id": "h9oFlErVY172",
        "outputId": "6f5b4c14-1f9a-4b9d-f62c-d890b2909947"
      },
      "outputs": [
        {
          "name": "stdout",
          "output_type": "stream",
          "text": [
            "Marcos 55 87.0\n"
          ]
        }
      ],
      "source": [
        "\n",
        "\n",
        "\n",
        "\n",
        "\n",
        "\n",
        "nome='Marcos'\n",
        "idade=55\n",
        "peso=87.0\n",
        "\n",
        "print(nome,idade,peso)\n",
        "\n",
        "\n",
        "\n",
        "\n",
        "\n"
      ]
    },
    {
      "cell_type": "code",
      "execution_count": null,
      "metadata": {
        "colab": {
          "base_uri": "https://localhost:8080/"
        },
        "id": "S7P9PKBSYKZL",
        "outputId": "6b4a411a-aee0-4ee4-d93f-a3599829bb07"
      },
      "outputs": [
        {
          "name": "stdout",
          "output_type": "stream",
          "text": [
            "2*1 = 2\n",
            "2*2 = 4\n",
            "2*3 = 6\n",
            "2*4 = 8\n",
            "2*5 = 10\n",
            "2*6 = 12\n",
            "2*7 = 14\n",
            "2*8 = 16\n",
            "2*9 = 18\n",
            "2*10 = 20\n"
          ]
        }
      ],
      "source": [
        "for i in range(1,11):\n",
        "  print(f\"2*{i} = {2*i}\")"
      ]
    },
    {
      "cell_type": "code",
      "execution_count": null,
      "metadata": {
        "colab": {
          "base_uri": "https://localhost:8080/"
        },
        "id": "9ICyFspMf8oh",
        "outputId": "5eb4bc6b-a7c6-4802-dbf7-9efba70e6344"
      },
      "outputs": [
        {
          "name": "stdout",
          "output_type": "stream",
          "text": [
            "A nota 0 é abaixo da média\n",
            "A nota 1 é abaixo da média\n",
            "A nota 2 é abaixo da média\n",
            "A nota 3 é abaixo da média\n",
            "A nota 4 é abaixo da média\n",
            "A nota 8 é otima.\n",
            "A nota 9 é otima.\n",
            "A nota 10 é otima.\n"
          ]
        }
      ],
      "source": [
        "for i in range (0,11):\n",
        "  if i > 7:\n",
        "    print(f\"A nota {i} é otima.\")\n",
        "  if i == 5:\n",
        "    print(f\"A nota {i} é regular\")\n",
        "  if i <= 4:\n",
        "    print(f\"A nota {i} é abaixo da média\")"
      ]
    },
    {
      "cell_type": "code",
      "execution_count": null,
      "metadata": {
        "colab": {
          "base_uri": "https://localhost:8080/"
        },
        "id": "MRgi8XAsgVda",
        "outputId": "48b9b75d-e669-48d0-9d58-252776ad9ca1"
      },
      "outputs": [
        {
          "name": "stdout",
          "output_type": "stream",
          "text": [
            "[]\n"
          ]
        }
      ],
      "source": [
        "nome_da_lista = []\n",
        "print(nome_da_lista)"
      ]
    },
    {
      "cell_type": "code",
      "execution_count": null,
      "metadata": {
        "colab": {
          "base_uri": "https://localhost:8080/"
        },
        "id": "i7tpQ7Fr4OQV",
        "outputId": "b8de1d98-72a2-4028-affc-9abc8f18b89a"
      },
      "outputs": [
        {
          "name": "stdout",
          "output_type": "stream",
          "text": [
            "[1, 2, 3, 'olá', 1.1]\n"
          ]
        }
      ],
      "source": [
        "nome_da_lista = [ 1, 2,3, \"olá\" , 1.1 ]\n",
        "print(nome_da_lista)"
      ]
    },
    {
      "cell_type": "code",
      "execution_count": null,
      "metadata": {
        "colab": {
          "base_uri": "https://localhost:8080/"
        },
        "id": "REHgrV3w6BJH",
        "outputId": "b193670e-2b44-45e9-b8c9-bbfa8547aecb"
      },
      "outputs": [
        {
          "name": "stdout",
          "output_type": "stream",
          "text": [
            "['Olá, mundo', [1, 2, 3], ['outra lista']]\n",
            "['Olá, mundo', [1, 2, 3], ['outra lista'], 60]\n"
          ]
        }
      ],
      "source": [
        "nome_da_lista = [\"Olá, mundo\", [1,2,3,],[\"outra lista\"]]\n",
        "print(nome_da_lista)\n",
        "nome_da_lista.append(60)\n",
        "print(nome_da_lista)\n"
      ]
    },
    {
      "cell_type": "code",
      "execution_count": null,
      "metadata": {
        "colab": {
          "base_uri": "https://localhost:8080/",
          "height": 235
        },
        "id": "JU4mi5eCCZmR",
        "outputId": "ce731c5e-e05d-49de-9061-f89f8414ab20"
      },
      "outputs": [
        {
          "name": "stdout",
          "output_type": "stream",
          "text": [
            "[45, 50, 55]\n"
          ]
        },
        {
          "ename": "TypeError",
          "evalue": "ignored",
          "output_type": "error",
          "traceback": [
            "\u001b[0;31m---------------------------------------------------------------------------\u001b[0m",
            "\u001b[0;31mTypeError\u001b[0m                                 Traceback (most recent call last)",
            "\u001b[0;32m<ipython-input-58-85ccdc563495>\u001b[0m in \u001b[0;36m<module>\u001b[0;34m()\u001b[0m\n\u001b[1;32m      1\u001b[0m \u001b[0mnumeros\u001b[0m \u001b[0;34m=\u001b[0m \u001b[0;34m[\u001b[0m\u001b[0;36m45\u001b[0m\u001b[0;34m,\u001b[0m\u001b[0;36m50\u001b[0m\u001b[0;34m,\u001b[0m\u001b[0;36m55\u001b[0m\u001b[0;34m]\u001b[0m\u001b[0;34m\u001b[0m\u001b[0;34m\u001b[0m\u001b[0m\n\u001b[1;32m      2\u001b[0m \u001b[0mprint\u001b[0m\u001b[0;34m(\u001b[0m\u001b[0mnumeros\u001b[0m\u001b[0;34m)\u001b[0m\u001b[0;34m\u001b[0m\u001b[0;34m\u001b[0m\u001b[0m\n\u001b[0;32m----> 3\u001b[0;31m \u001b[0mnumeros\u001b[0m\u001b[0;34m.\u001b[0m\u001b[0minsert\u001b[0m\u001b[0;34m(\u001b[0m\u001b[0;34m)\u001b[0m\u001b[0;34m(\u001b[0m\u001b[0;36m4\u001b[0m\u001b[0;34m)\u001b[0m\u001b[0;34m\u001b[0m\u001b[0;34m\u001b[0m\u001b[0m\n\u001b[0m\u001b[1;32m      4\u001b[0m \u001b[0mprint\u001b[0m\u001b[0;34m(\u001b[0m\u001b[0mnumeros\u001b[0m\u001b[0;34m)\u001b[0m\u001b[0;34m\u001b[0m\u001b[0;34m\u001b[0m\u001b[0m\n",
            "\u001b[0;31mTypeError\u001b[0m: insert() takes exactly 2 arguments (0 given)"
          ]
        }
      ],
      "source": [
        "numeros = [45,50,55]\n",
        "print(numeros)\n",
        "numeros.insert()\n",
        "print(numeros)"
      ]
    },
    {
      "cell_type": "code",
      "execution_count": null,
      "metadata": {
        "colab": {
          "base_uri": "https://localhost:8080/"
        },
        "id": "WtVAZa_TJvo_",
        "outputId": "07379461-7d4d-4bbc-cb7f-d8e09eb083f9"
      },
      "outputs": [
        {
          "name": "stdout",
          "output_type": "stream",
          "text": [
            "[0, 0, 0, 0, 1, 2, 3]\n"
          ]
        }
      ],
      "source": [
        "numeros=[0,0,0,0] #declaramos uma lista\n",
        "numeros.extend([1,2,3])# adicionamos apenas os números da interavél\n",
        "print(numeros)\n"
      ]
    },
    {
      "cell_type": "code",
      "execution_count": null,
      "metadata": {
        "colab": {
          "base_uri": "https://localhost:8080/"
        },
        "id": "O3LHpMVhKWBp",
        "outputId": "e3f18b84-0331-46d0-9eea-73d5ae335b0d"
      },
      "outputs": [
        {
          "name": "stdout",
          "output_type": "stream",
          "text": [
            "[0, 0, 0, 0, 1, 2, 3, 4, 5, 6]\n"
          ]
        }
      ],
      "source": [
        "numeros.extend((4,5,6))#adicionamos os numeros a tupla\n",
        "print(numeros)"
      ]
    },
    {
      "cell_type": "code",
      "execution_count": null,
      "metadata": {
        "colab": {
          "base_uri": "https://localhost:8080/"
        },
        "id": "X4zW2MqGRHjc",
        "outputId": "33200b8f-477a-4dbd-8062-295ac44c6d9e"
      },
      "outputs": [
        {
          "name": "stdout",
          "output_type": "stream",
          "text": [
            "[11, 11, 45, 50, 55]\n"
          ]
        }
      ],
      "source": [
        "numeros.insert(0,11)\n",
        "print(numeros)"
      ]
    },
    {
      "cell_type": "code",
      "execution_count": null,
      "metadata": {
        "id": "i57dRGdujDX3"
      },
      "outputs": [],
      "source": [
        ""
      ]
    },
    {
      "cell_type": "code",
      "execution_count": null,
      "metadata": {
        "colab": {
          "base_uri": "https://localhost:8080/"
        },
        "id": "QBqOdTo_RQhk",
        "outputId": "b9b0bcdd-4961-433d-81c1-1afe47796576"
      },
      "outputs": [
        {
          "name": "stdout",
          "output_type": "stream",
          "text": [
            "[10, 11, 12, 13]\n",
            "[11, 12, 13]\n"
          ]
        }
      ],
      "source": [
        "numeros = [10,11,12,13]\n",
        "print(numeros)\n",
        "numeros.remove(10)\n",
        "print(numeros)"
      ]
    },
    {
      "cell_type": "code",
      "execution_count": null,
      "metadata": {
        "colab": {
          "base_uri": "https://localhost:8080/",
          "height": 53
        },
        "id": "uCsqYHeCjCSk",
        "outputId": "30973d3f-f15c-425d-8ca1-f303c2f18c5f"
      },
      "outputs": [
        {
          "name": "stdout",
          "output_type": "stream",
          "text": [
            "['k', 'm', 'z', 'a', 'b', 'k']\n"
          ]
        },
        {
          "data": {
            "application/vnd.google.colaboratory.intrinsic+json": {
              "type": "string"
            },
            "text/plain": [
              "'m'"
            ]
          },
          "execution_count": 64,
          "metadata": {},
          "output_type": "execute_result"
        }
      ],
      "source": [
        "#pop remove e retorna o elemento com indice especificado\n",
        "numeros= ['k','m','z','a','b','k']\n",
        "print(numeros)\n",
        "numeros.pop(1)"
      ]
    },
    {
      "cell_type": "code",
      "execution_count": null,
      "metadata": {
        "colab": {
          "base_uri": "https://localhost:8080/",
          "height": 35
        },
        "id": "jfzXcpgmj-bL",
        "outputId": "248f23ea-f482-4d44-9707-b350b909c59b"
      },
      "outputs": [
        {
          "data": {
            "application/vnd.google.colaboratory.intrinsic+json": {
              "type": "string"
            },
            "text/plain": [
              "'a'"
            ]
          },
          "execution_count": 67,
          "metadata": {},
          "output_type": "execute_result"
        }
      ],
      "source": [
        "numeros=['k','m','z','a','b']\n",
        "numeros.pop(3)"
      ]
    },
    {
      "cell_type": "code",
      "execution_count": 4,
      "metadata": {
        "colab": {
          "base_uri": "https://localhost:8080/",
          "height": 130
        },
        "id": "LBdiZ0P2gVmF",
        "outputId": "72f85a6e-bb05-4a2b-c9f6-8059c23df84c"
      },
      "outputs": [
        {
          "output_type": "error",
          "ename": "IndentationError",
          "evalue": "ignored",
          "traceback": [
            "\u001b[0;36m  File \u001b[0;32m\"<ipython-input-4-61c51f01d547>\"\u001b[0;36m, line \u001b[0;32m121\u001b[0m\n\u001b[0;31m    else:\u001b[0m\n\u001b[0m         ^\u001b[0m\n\u001b[0;31mIndentationError\u001b[0m\u001b[0;31m:\u001b[0m unindent does not match any outer indentation level\n"
          ]
        }
      ],
      "source": [
        "import math\n",
        " \n",
        "def dividir(num1,num2):\n",
        "    try:\n",
        "        return f'{num1}/{num2}={num1/num2}'\n",
        "    except ZeroDivisionError:\n",
        "        return 'O denominador deve ser diferente de zero.'\n",
        "    except TypeError:\n",
        "        return 'Insira um valor válido.'\n",
        " \n",
        "def menu_principal():\n",
        "    print(\"Calculadora\".center(65,'='))\n",
        "    opcoes()\n",
        "    print('='*65)\n",
        " \n",
        "def opcoes():\n",
        "    print(\"\\t1 - Operações aritiméticas\")\n",
        "    print(\"\\t2 - Funções Logarítimicas e Potência\")\n",
        "    print(\"\\t3 - Funções trigonométricas\")\n",
        "    print(\"\\t4 - Outras opções\")\n",
        "    print(\"\\t5 - Sair\")\n",
        "    \n",
        "def opcoes_1():\n",
        "    print(\"\\t1 - Soma\")\n",
        "    print(\"\\t2 - Subtração\")\n",
        "    print(\"\\t3 - Multiplicação\")\n",
        "    print(\"\\t4 - Divisão\")\n",
        "    print(\"\\t5 - Voltar\")\n",
        "    \n",
        "    \n",
        "def opcoes_2():\n",
        "    print(\"\\t1 - Quadrado\")\n",
        "    print(\"\\t2 - Cubo\")\n",
        "    print(\"\\t3 - Potência\")\n",
        "    print(\"\\t4- Log10\")\n",
        "    print(\"\\t5 - Log\")\n",
        "    print(\"\\t6 - Voltar\")\n",
        " \n",
        "def opcoes_3():\n",
        "    print(\"\\t1 - Seno\")\n",
        "    print(\"\\t2 - Cosseno\")\n",
        "    print(\"\\t3 - Tangente\")\n",
        "    print(\"\\t4 - Voltar\")\n",
        " \n",
        "def opcoes_4():\n",
        "    print(\"\\t1 - Fatorial\")\n",
        "    print(\"\\t2 - Voltar\")\n",
        " \n",
        "def menu_1():\n",
        "    opcao=0\n",
        "    while opcao!=5:\n",
        "        opcao=int(input(\">> \"))\n",
        "        if opcao in range(1,5):\n",
        "            num1=float(input(\"Número 1: \"))\n",
        "            num2=float(input(\"Número 2: \"))\n",
        "            if opcao==1:\n",
        "                print(f'{num1}+{num2}={num1+num2}')\n",
        "            elif opcao==2:\n",
        "                print(f'{num1}-{num2}={num1-num2}')\n",
        "            elif opcao==3:\n",
        "                print(f'{num1} x {num2}={num1*num2}')\n",
        "            else:\n",
        "                print(dividir(num1,num2))\n",
        "                \n",
        "        else:\n",
        "            if opcao!=5:\n",
        "                print('Opção inválida.')\n",
        " \n",
        "                \n",
        "def menu_2():\n",
        "    opcao=0\n",
        "    while opcao!=6:\n",
        "        opcao=int(input(\">> \"))\n",
        "        if opcao in range(1,6):\n",
        "            \n",
        "            if opcao==1 or opcao==2 or opcao==4:\n",
        "                num1=float(input('Número: '))\n",
        "                \n",
        "                if opcao==1:\n",
        "                    print(f'{num1}²={num1**2}')\n",
        "                elif opcao==2:\n",
        "                    print(f'{num1}³={num1**3}')\n",
        "                else:\n",
        "                    print(f'O log de {num1} na base 10 é {math.log10(num1)}')\n",
        "            else:\n",
        "                if opcao==3:\n",
        "                    base=float(input(\"Base da potência: \"))\n",
        "                    exp=float(input(\"Expoente: \"))\n",
        "                    print(f'{base}^{exp}={base**exp}')\n",
        "                if opcao==5:\n",
        "                    base=float(input(\"Base do log: \"))\n",
        "                    num=float(input(\"Número: \"))\n",
        "                    print(f'O log de {num} na base {base} é :{math.log(num,base)}')\n",
        " \n",
        "        else:\n",
        "            if opcao!=6:\n",
        "                print('Opção inválida.')\n",
        "                \n",
        "def menu_3():\n",
        "    opcao=0\n",
        "    while opcao!=4:\n",
        "        opcao=int(input(\">> \"))\n",
        "        if opcao in range(1,4):\n",
        "            num=float(input(\"Número: \"))\n",
        "            if opcao==1:\n",
        "                print(f\"sen({num})={math.sin(num)}\")\n",
        "            elif opcao==2:\n",
        "                print(f\"cos({num})={math.cos(num)}\")\n",
        "            else:\n",
        "                print(f\"tan({num})={math.tan(num)}\")\n",
        "        else:\n",
        "            if opcao!=4:\n",
        "                print('Opção inválida.')\n",
        "def menu_4():\n",
        "    opcao=0\n",
        "    while opcao!=2:\n",
        "        opcao=int(input(\">> \"))\n",
        "        if opcao==1:\n",
        "            num=int(input(\"Digite o número inteiro: \"))\n",
        "            print(f\"{num}!={math.factorial(num)}\")\n",
        "      else:\n",
        "        if opcao!=2:\n",
        "                print('Opção inválida.')\n",
        " \n",
        "def main():\n",
        "    escolha=''\n",
        "    \n",
        "    while escolha!='5':\n",
        "        \n",
        "        menu_principal()\n",
        "        \n",
        "        escolha=input(\">> \")\n",
        "        \n",
        "        if escolha in list('1234'):\n",
        "            \n",
        "            if escolha=='1':\n",
        "                opcoes_1()\n",
        "                menu_1()\n",
        " \n",
        "            elif escolha=='2':\n",
        "                opcoes_2()\n",
        "                menu_2()\n",
        "                \n",
        "            \n",
        "            elif escolha=='3':\n",
        "                opcoes_3()\n",
        "                menu_3()\n",
        "                \n",
        "            elif escolha=='4':\n",
        "                opcoes_4()\n",
        "                menu_4()\n",
        "                \n",
        "        elif escolha=='5':\n",
        "            print(\"Fim do programa\")\n",
        "            \n",
        "        else:\n",
        "            print(\"Opção inválida\")\n",
        "            \n",
        " \n",
        "main()"
      ]
    },
    {
      "cell_type": "markdown",
      "source": [
        "\n",
        "\n",
        "1.   Item da lista\n",
        "2.   Item da lista\n",
        "\n"
      ],
      "metadata": {
        "id": "ICUtWqt2SkLi"
      }
    }
  ],
  "metadata": {
    "colab": {
      "collapsed_sections": [],
      "name": "Aula de python",
      "provenance": [],
      "mount_file_id": "1ohaNRoulmY9-1VjGglHoExGLhl3ALWYC",
      "authorship_tag": "ABX9TyMUqpER+C5EcFbloot+YFKa",
      "include_colab_link": true
    },
    "kernelspec": {
      "display_name": "Python 3",
      "name": "python3"
    },
    "language_info": {
      "name": "python"
    }
  },
  "nbformat": 4,
  "nbformat_minor": 0
}