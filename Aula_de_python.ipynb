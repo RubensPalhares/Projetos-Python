{
  "cells": [
    {
      "cell_type": "markdown",
      "metadata": {
        "id": "view-in-github",
        "colab_type": "text"
      },
      "source": [
        "<a href=\"https://colab.research.google.com/github/RubensPalhares/Projetos-Python/blob/master/Aula_de_python.ipynb\" target=\"_parent\"><img src=\"https://colab.research.google.com/assets/colab-badge.svg\" alt=\"Open In Colab\"/></a>"
      ]
    },
    {
      "cell_type": "code",
      "source": [
        "def imprime_nome(nome):\n",
        "    print(f\"Nome: {nome}\")\n",
        "\n",
        "\n",
        "imprime_nome(\"Erickson\")\n",
        "imprime_nome(\"Renan\")\n",
        "imprime_nome(\"Daniel\")\n",
        "\n",
        "\n"
      ],
      "metadata": {
        "id": "BPU-e2FSNcCn"
      },
      "execution_count": null,
      "outputs": []
    },
    {
      "cell_type": "code",
      "source": [],
      "metadata": {
        "id": "qoWbi-TWjdUS"
      },
      "execution_count": null,
      "outputs": []
    },
    {
      "cell_type": "code",
      "source": [
        "# Exemplo (bem simples) de função em Python.\n",
        "def f(n): \n",
        "    print(\"O valor do parâmetro é \", n) \n",
        "\n",
        "f(10) "
      ],
      "metadata": {
        "id": "_A9bc1ESBquF"
      },
      "execution_count": null,
      "outputs": []
    },
    {
      "cell_type": "code",
      "source": [
        "# Exemplo de função que retorna um valor.\n",
        "def f(n):\n",
        "    return n \n",
        "\n",
        "resultado = f(10)\n",
        "print(\"O valor do parâmetro é {}\".format(resultado))"
      ],
      "metadata": {
        "id": "MPYTr1upB7k1"
      },
      "execution_count": null,
      "outputs": []
    },
    {
      "cell_type": "code",
      "source": [
        "# Outro exemplo de função que retorna um valor.\n",
        "def eleva_ao_quadrado(n):\n",
        "    return n ** 2\n",
        "\n",
        "print(\"O número {} elevado ao quatrado é {}\".format(10, eleva_ao_quadrado(10)))\n",
        "\n"
      ],
      "metadata": {
        "id": "oMXYByaVCRJn"
      },
      "execution_count": null,
      "outputs": []
    },
    {
      "cell_type": "code",
      "source": [
        "# Exemplo de função que retorna mais de um valor.\n",
        "def quociente_resto(x, y):\n",
        "    quociente = x // y\n",
        "    resto = x % y\n",
        "    return (quociente, resto)\n",
        "\n",
        "print(\"Quociente e resto: \", quociente_resto(9, 4))"
      ],
      "metadata": {
        "id": "buJ_d2qoCYd8"
      },
      "execution_count": null,
      "outputs": []
    },
    {
      "cell_type": "code",
      "source": [
        "def eleva_ao_quadrado(n):\n",
        "    return n ** 2\n",
        "\n",
        "# Função map sem o uso de função lambda.\n",
        "print(list(map(eleva_ao_quadrado, range(5))))\n",
        "\n",
        "\n"
      ],
      "metadata": {
        "id": "ucEQrEXKCntv"
      },
      "execution_count": null,
      "outputs": []
    },
    {
      "cell_type": "code",
      "source": [
        "# Função map com função lambda.\n",
        "print(list(map(lambda x: x ** 2, range(5))))\n",
        "[0, 1, 4, 9, 16]"
      ],
      "metadata": {
        "id": "Dp-QgN8uCwH9"
      },
      "execution_count": null,
      "outputs": []
    },
    {
      "cell_type": "code",
      "source": [
        "# um professor quer sortear um dos seus quatro alunos\n",
        "# para apagar o quadro . Faça um programa que ajude ele. \n",
        "# lendo o nome deles e escrevendo o nome do escolhido na tela.\n",
        " \n",
        "from random import choice \n",
        "n1 = str(input('Primeiro aluno:'))\n",
        "n2 = str(input('Segundo aluno:'))\n",
        "n3 = str(input('Terceiro aluno:'))\n",
        "n4 = str(input('Quarto aluno:'))\n",
        "lista = [n1, n2, n3, n4] \n",
        "escolhido = choice(lista)\n",
        "print(' O aluno escolhido foi {}'.format(escolhido))\n",
        "\n",
        "\n",
        "\n",
        "\n"
      ],
      "metadata": {
        "id": "KhbQG1V-GFdd"
      },
      "execution_count": null,
      "outputs": []
    },
    {
      "cell_type": "code",
      "source": [
        "\n",
        "# O mesmo professor quer sortear a ordem de apresentação de trabalhos\n",
        "# dos alunos. Faça um programa que leia o nome dos quatro alunos\n",
        "# e mostre a ordem sorteada.\n",
        "from random import shuffle \n",
        "n1 = str(input('Primeiro aluno:'))\n",
        "n2 = str(input('Segundo aluno:'))\n",
        "n3 = str(input('Terceiro aluno:'))\n",
        "n4 = str(input('Quarto aluno:'))\n",
        "lista = [n1, n2, n3, n4] \n",
        "shuffle(lista)\n",
        "print('A ordem de apresentação será:')\n",
        "print(lista)\n",
        "\n",
        "\n",
        "\n"
      ],
      "metadata": {
        "id": "nhXlRgjSK0kt"
      },
      "execution_count": null,
      "outputs": []
    },
    {
      "cell_type": "code",
      "source": [
        "\n",
        "# Faça um programa qeu leia o comprimento do cateto\n",
        "# opoto do cateto adjacente de um triângulo retângulo\n",
        "# Calcule e mostre o comprimento da hipotenusa.\n",
        " \n",
        "from math import hypot\n",
        "cosseno = float(input('Comprimento do cateto oposto'))\n",
        "cateto = float(input('Comprimento do cateto adjacente'))\n",
        "hi = hypot(cosseno, cateto)\n",
        "print('A hipotenusa vai medir {:.2f}'.format(hi))\n",
        "\n",
        "\n"
      ],
      "metadata": {
        "id": "QWqN79n_EBlM"
      },
      "execution_count": null,
      "outputs": []
    },
    {
      "cell_type": "code",
      "source": [
        "\n",
        "# Faça um program que leia a largura e a altura\n",
        "# de uma parede em metros. Calcule a sua área e \n",
        "# a quantidade de tinta necessária para pinta - la\n",
        "# sabendo que cada litro de tinta pinta uma area de 2m².\n",
        "\n",
        "larg = float(input('Largura da parede: '))\n",
        "alt = float(input('Altura da parede:'))\n",
        "\n",
        "área = larg * alt\n",
        "print('sua parede tem a dimensão de {}x{} e sua área é de {}m².'.format(larg, alt, área))\n",
        "\n",
        "tinta = área / 2 \n",
        "print(' Para pintar essa parede, prescisará de {}l de tinta'.format(tinta))\n",
        "\n",
        "\n",
        "\n",
        "\n"
      ],
      "metadata": {
        "id": "6LX_AjK6_muu"
      },
      "execution_count": null,
      "outputs": []
    },
    {
      "cell_type": "code",
      "source": [
        "# Faça um programa que leia um ângulo qualquer \n",
        "# e mostre na tela o valor do seno  cosseno e tangente desse ângulo. \n",
        "import math\n",
        "ângulo = float(input('Digite o ângulo que voce deseja.')) \n",
        "\n",
        "seno = math.sin(math.radians(ângulo))\n",
        "print('O ângulo de {} tem o SENO de{:.2f}'.format(ângulo,seno))\n",
        "\n",
        "cosseno = math.cos(math.radians(ângulo))\n",
        "print(' O ângulo de{} tem o COSSENO DE {:.2f}'.format(ângulo, cosseno))\n",
        "\n",
        "tangente = math.tan(math.radians(ângulo))\n",
        "print('O ângulo de {} tem TANGENTE de {:.2f}'.format(ângulo, tangente))\n",
        "\n",
        "\n"
      ],
      "metadata": {
        "id": "LNH_w7O150R3"
      },
      "execution_count": null,
      "outputs": []
    },
    {
      "cell_type": "markdown",
      "source": [],
      "metadata": {
        "id": "SCEZ2rvc7SeU"
      }
    },
    {
      "cell_type": "code",
      "source": [
        "# Faça um Programa que leia um vetor de 5 números inteiros e mostre-os.\n",
        "vetorList = [1, 4, 9, 22, 18,]\n",
        " \n",
        "i = 0\n",
        "while i < len(vetorList):\n",
        "    print(vetorList[i])\n",
        "    i = i + 1\n",
        "\n",
        "\n",
        "\n",
        "\n"
      ],
      "metadata": {
        "id": "KxZs9JLu8yqv"
      },
      "execution_count": null,
      "outputs": []
    },
    {
      "cell_type": "code",
      "source": [
        "\n",
        "#Faça um Programa que leia uma lista de 5 números reais e \n",
        "# mostre-os na ordem inversa.\n",
        "\n",
        "listaNumerosReais = []\n",
        "print('Informe os 5 numeros reais')\n",
        "for i in range(5):\n",
        " listaNumerosReais.append(float(input('Numero '+ str(i+1) + ':\\n')))\n",
        " listaNumerosReais.reverse()\n",
        "print(listaNumerosReais) \n",
        "\n",
        "\n"
      ],
      "metadata": {
        "id": "RScO5MVs9fh_"
      },
      "execution_count": null,
      "outputs": []
    },
    {
      "cell_type": "code",
      "source": [
        "# Baseado no programa anterior\n",
        "# crie um vetor de 5 elementos do tipo int. \n",
        "\n",
        "valores = [1,2,3,4,5]\n",
        "print(valores)\n",
        "\n",
        "\n",
        "\n",
        "\n"
      ],
      "metadata": {
        "colab": {
          "base_uri": "https://localhost:8080/"
        },
        "id": "WdPRx53CxetK",
        "outputId": "a0aa0b49-cf7f-43bb-a5c0-ce325f721bc9"
      },
      "execution_count": null,
      "outputs": [
        {
          "output_type": "stream",
          "name": "stdout",
          "text": [
            "[1, 2, 3, 4, 5]\n"
          ]
        }
      ]
    },
    {
      "cell_type": "code",
      "source": [
        "#utilizando modulos \n",
        "import math\n",
        "num = int(input( 'Digite um Número:'))\n",
        "raiz = math.sqrt(num)\n",
        "print('A raiz de {} é igual a {:.2f}'.format(num, raiz ))\n"
      ],
      "metadata": {
        "id": "RDDCwQsV_f6T",
        "colab": {
          "base_uri": "https://localhost:8080/"
        },
        "outputId": "56e256e8-1f2f-462e-dab2-21c398aa2443"
      },
      "execution_count": null,
      "outputs": [
        {
          "output_type": "stream",
          "name": "stdout",
          "text": [
            "Digite um Número:77\n",
            "A raiz de 77 é igual a 8.77\n"
          ]
        }
      ]
    },
    {
      "cell_type": "code",
      "source": [
        "from math import sqrt\n",
        "#utilizando modulos \n",
        "num = int(input( 'Digite um Número:'))\n",
        "raiz = sqrt(num)\n",
        "print('A raiz de {} é igual a {:.2f}'.format(num, raiz ))"
      ],
      "metadata": {
        "id": "gtYdSI5MBmSO"
      },
      "execution_count": null,
      "outputs": []
    },
    {
      "cell_type": "code",
      "source": [
        "\n",
        "# Percorrendo uma lista de números.\n",
        "print(\"Números em uma lista: \")\n",
        "for numero in [1, 1, 2, 3, 5, 8, 13]:\n",
        "    print(numero)"
      ],
      "metadata": {
        "id": "MOwyxHcnEgnK"
      },
      "execution_count": null,
      "outputs": []
    },
    {
      "cell_type": "code",
      "source": [
        "# Percorrendo uma lista de palavras.\n",
        "print(\"Palavras em uma lista:\")\n",
        "for palavra in ['IFMG', 'Campus','Ibirité']:\n",
        "    print(palavra)  "
      ],
      "metadata": {
        "id": "mbNlQgMDEqnH"
      },
      "execution_count": null,
      "outputs": []
    },
    {
      "cell_type": "code",
      "source": [
        "# Percorrendo um intervalo. \n",
        "# Por padrão, intervalos começam em zero.\n",
        "for i in range(34):\n",
        "    print(i)"
      ],
      "metadata": {
        "id": "x14iO2UIFEN9"
      },
      "execution_count": null,
      "outputs": []
    },
    {
      "cell_type": "code",
      "source": [
        "for indice, elemento in enumerate(range(-9,9)):\n",
        "    print(indice, elemento)\n",
        "\n",
        "\n",
        "    "
      ],
      "metadata": {
        "id": "RnOnuiwYFR17"
      },
      "execution_count": null,
      "outputs": []
    },
    {
      "cell_type": "code",
      "source": [
        "#Um exemplo interessante de uso de laços for é a busca\n",
        "# por um elemento em uma lista:\n",
        "elemento = 10\n",
        "esta_presente = False\n",
        "lista = [1, 2, 7, 10, 15, 20, 50]\n",
        "for item in lista:\n",
        "  if item == elemento:\n",
        "    esta_presente = True\n",
        "\n",
        "if esta_presente:\n",
        "  print(\"Elemento está na lista!\")\n",
        "else:\n",
        "  print(\"Elemento não está na lista!\")\n"
      ],
      "metadata": {
        "id": "Em3jPuuLFecC",
        "colab": {
          "base_uri": "https://localhost:8080/"
        },
        "outputId": "e7c18a9a-f197-4b15-e2af-c6ab53c2bf0f"
      },
      "execution_count": null,
      "outputs": [
        {
          "output_type": "stream",
          "name": "stdout",
          "text": [
            "Elemento está na lista!\n"
          ]
        }
      ]
    },
    {
      "cell_type": "code",
      "source": [
        "#Uma outra forma de pesquisar por um elemento em uma lista em \n",
        "# Python é por meio do recurso in:\n",
        "elemento = 10\n",
        "lista = [1, 2, 7, 10, 15]\n",
        "if elemento in lista:\n",
        "  print(\"Está na lista!\")\n",
        "else:\n",
        "  print(\"Não está na lista!\")"
      ],
      "metadata": {
        "id": "Bi7URFSwF6bd",
        "colab": {
          "base_uri": "https://localhost:8080/"
        },
        "outputId": "38938c94-1781-4f34-e32f-c2efc6de25e8"
      },
      "execution_count": null,
      "outputs": [
        {
          "output_type": "stream",
          "name": "stdout",
          "text": [
            "Está na lista!\n"
          ]
        }
      ]
    },
    {
      "cell_type": "code",
      "source": [
        "#Além dos laços for, Python conta também com os laços while, \n",
        "# que executam enquanto uma dada condição for verdadeira:\n",
        "i = 1\n",
        "while i < 5:\n",
        "    print(i)\n",
        "    i = i + 1"
      ],
      "metadata": {
        "id": "3enCcEmyGGHz"
      },
      "execution_count": null,
      "outputs": []
    },
    {
      "cell_type": "code",
      "source": [
        "\n",
        "#Um exemplo útil de uso de laços while é o cálculo do\n",
        "# fatorial de um número:\n",
        "n = 6\n",
        "fatorial = 1\n",
        "while n > 1:\n",
        "  fatorial *= n \n",
        "  n -= 1 \n",
        "print(fatorial)\n",
        "\n",
        "\n",
        "\n",
        "\n"
      ],
      "metadata": {
        "id": "TjYakQvZGSjf",
        "colab": {
          "base_uri": "https://localhost:8080/"
        },
        "outputId": "9b206589-142d-411d-9267-3c63726ceb84"
      },
      "execution_count": null,
      "outputs": [
        {
          "output_type": "stream",
          "name": "stdout",
          "text": [
            "720\n"
          ]
        }
      ]
    },
    {
      "cell_type": "code",
      "execution_count": null,
      "metadata": {
        "id": "sEyA7SKEqcP1"
      },
      "outputs": [],
      "source": [
        "# Escreva um programa que pergunte a quantidade de km percorridos por um \n",
        "# carro alugado. Calcule o preço a pagar. Sabendo que o carro custa \n",
        "# R$ 60 por dia e R$ 0.15 por km rodado. \n",
        "\n",
        "dias = int(input('Quantos dias alugado?'))\n",
        "km = float(input('Quantos km rodados?'))\n",
        "pago = (dias * 60) + ( km * 0.15)\n",
        "print( ' O total a pagar é de: R${:.2f}'.format(pago) )\n",
        "\n",
        "\n",
        "\n",
        "\n"
      ]
    },
    {
      "cell_type": "code",
      "source": [
        "def lin():\n",
        "  print('__________________________')\n",
        "lin()\n",
        "print('Sistemas de Alunos IFMG')\n",
        "lin()\n",
        "print('Cadastro de alunos')\n",
        "lin()\n",
        "lin()\n",
        "print('Erro no sistema')\n",
        "lin()"
      ],
      "metadata": {
        "id": "U6es2nkCgQ9d"
      },
      "execution_count": null,
      "outputs": []
    },
    {
      "cell_type": "code",
      "source": [
        "def f(x):\n",
        "  return x ** 2\n",
        "f(3)"
      ],
      "metadata": {
        "id": "hy1izz7W4eO6"
      },
      "execution_count": null,
      "outputs": []
    },
    {
      "cell_type": "code",
      "source": [
        "def power (x, y):\n",
        "    return x ** y\n",
        "power( 3 , 2 ), power(y=2 , x=3)\n"
      ],
      "metadata": {
        "id": "Mr-ZmzFB4tof"
      },
      "execution_count": null,
      "outputs": []
    },
    {
      "cell_type": "code",
      "source": [],
      "metadata": {
        "id": "rWm-lDR05V-D"
      },
      "execution_count": null,
      "outputs": []
    },
    {
      "cell_type": "code",
      "source": [
        "def\tvelocidade(espaco,\ttempo):\n",
        "\t\tv\t=\tespaco/tempo\n",
        "\t\tprint('velocidade: {}\tm/s'.format(v))\n",
        "  \n",
        "\n",
        "\n"
      ],
      "metadata": {
        "id": "SjiAcj-aq3vT"
      },
      "execution_count": null,
      "outputs": []
    },
    {
      "cell_type": "code",
      "source": [
        "def\tdados(nome,\tidade = None):\n",
        "\tprint('nome:\t{}'.format(nome))\n",
        "\tif(idade\tis not None):\n",
        "\t\tprint('idade:\t{}'.format(idade))\n",
        "\telse:\n",
        "\t\tprint('idade:\tnão\tinformada')\n",
        "dados('joao ')\t\n",
        "\n",
        "\t\t"
      ],
      "metadata": {
        "id": "4a3T7zrNsoyZ",
        "colab": {
          "base_uri": "https://localhost:8080/"
        },
        "outputId": "aa138760-95f4-492e-955e-390798797905"
      },
      "execution_count": null,
      "outputs": [
        {
          "output_type": "stream",
          "name": "stdout",
          "text": [
            "nome:\tjoao \n",
            "idade:\tnão\tinformada\n"
          ]
        }
      ]
    },
    {
      "cell_type": "code",
      "execution_count": null,
      "metadata": {
        "id": "LdbHgihroCa9"
      },
      "outputs": [],
      "source": [
        "# Desenvolva um programa que leia duas notas de um aluno \n",
        "# calcule e mostre sua media. \n",
        "\n",
        "nota1 = float(input('Digite a primeira nota:'))\n",
        "nota2 = float(input('Digite a segunda nota:'))\n",
        "media = (nota1 + nota2)/2\n",
        "\n",
        "print('A média entre {:.1f} e {:.1f} é igual a: {:.1f}'.format(nota1, nota2, media))\n",
        "\n",
        "\n",
        "\n"
      ]
    },
    {
      "cell_type": "code",
      "execution_count": null,
      "metadata": {
        "id": "WfmVQpx3gdns"
      },
      "outputs": [],
      "source": [
        "# Crie um algoritimo que leia um numero e mostre seu\n",
        "# dobro triplo e raiz quadrada.\n",
        "\n",
        "numero = float(input('Digite um número:'))\n",
        "dobro = numero * 2\n",
        "triplo = numero * 3\n",
        "raiz = numero ** (1/2)\n",
        "print(' O dobro de: {} vale:{}'.format(numero, dobro))\n",
        "print('O triplo vale: {} e a Raiz quadrada vale:{}'.format(triplo, raiz))\n",
        "\n",
        "\n",
        "\n",
        "\n"
      ]
    },
    {
      "cell_type": "code",
      "execution_count": null,
      "metadata": {
        "id": "GR7xAm0zlYFb"
      },
      "outputs": [],
      "source": [
        "numero = float(input('Digite um número:'))\n",
        " \n",
        "print(' O dobro de: {} vale:{}'.format(numero , dobro * 2))\n",
        "print('O triplo: {} \\n e a Raiz:{:.2f}'.format(triplo *3, pow(numero, (1/2))))\n",
        "\n",
        "\n",
        "\n"
      ]
    },
    {
      "cell_type": "code",
      "execution_count": null,
      "metadata": {
        "id": "nbwhXhZKuwGA"
      },
      "outputs": [],
      "source": [
        "\n",
        "\n",
        "\n",
        "n1=float(input('digite a nota do seu primeiro periodo:'))\n",
        "n2=float(input('agora a nota do segundo periodo:'))\n",
        "n3=float(input('seu terceiro periodo:'))\n",
        "n4=float(input('e seu quarto periodo:'))\n",
        "media=(n1+n2+n3+n4)/4\n",
        "print('a media das suas notas foi',media)\n",
        "if media >= 6:\n",
        " print('Aprovado') \n",
        "else:\n",
        " print('Reprovado')\n",
        "\n",
        "\n",
        "\n"
      ]
    },
    {
      "cell_type": "code",
      "execution_count": null,
      "metadata": {
        "id": "SrXNAv3EwjXO"
      },
      "outputs": [],
      "source": [
        "n1=float(input('digite a nota do seu primeiro periodo:'))\n",
        "n2=float(input('agora a nota do segundo periodo:'))\n",
        "n3=float(input('seu terceiro periodo:'))\n",
        "n4=float(input('e seu quarto periodo:'))\n",
        "\n",
        "print(' A media das notas é {}'.format(media=(n1+n2+n3+n4)/4))\n"
      ]
    },
    {
      "cell_type": "code",
      "execution_count": null,
      "metadata": {
        "id": "VXMNW3DRdmK6"
      },
      "outputs": [],
      "source": [
        "n1 = int(input('Digite um valor:'))\n",
        "n2 = int(input('Digite outro valor'))\n",
        "soma = (n1 + n2) \n",
        "print('a soma dos dois números é', soma)\n"
      ]
    },
    {
      "cell_type": "code",
      "execution_count": null,
      "metadata": {
        "id": "4Xg2UNXohARa"
      },
      "outputs": [],
      "source": [
        "n1 = int (input('Digite um valor:'))\n",
        "n2 = int (input('Digite outro valor'))\n",
        "soma = n1 + n2 \n",
        " \n",
        "print('A soma entre {} e {} vale {} '.format(n1,n2,soma))\n",
        "\n",
        "\n",
        "\n",
        "\n"
      ]
    },
    {
      "cell_type": "code",
      "execution_count": null,
      "metadata": {
        "id": "6rUJ17rykXYM"
      },
      "outputs": [],
      "source": [
        "# Faça um programa que mostre uma mensagem de boas vindas na tela.\n",
        "\n",
        "nome=(input(\"Digite seu nome: \"))\n",
        "\n",
        "print(\"Bem vindo ao campus IFMG - Ibirité!!\", nome)\n",
        "\n",
        "\n"
      ]
    },
    {
      "cell_type": "code",
      "execution_count": null,
      "metadata": {
        "id": "QDSMym7ZlaM-",
        "colab": {
          "base_uri": "https://localhost:8080/"
        },
        "outputId": "f42a9696-7a0d-4b5d-b2be-42d8290fae58"
      },
      "outputs": [
        {
          "output_type": "stream",
          "name": "stdout",
          "text": [
            "Digite seu nome: Rubens\n",
            "Bem vindo ao campus IFMG - Ibirité!!Rubens\n"
          ]
        }
      ],
      "source": [
        "nome=(input(\"Digite seu nome: \"))\n",
        "\n",
        "print('Bem vindo ao campus IFMG - Ibirité!!{}' .format(nome))\n",
        "\n",
        "\n"
      ]
    },
    {
      "cell_type": "code",
      "execution_count": null,
      "metadata": {
        "id": "SO4ug7CN3MkU"
      },
      "outputs": [],
      "source": [
        "# Faça um programa que solicite o preço de \n",
        "# uma mercadoria e o percentual de desconto\n",
        "# A interpolação é mais eficiente do que a concatenação convencional.\n",
        "preço = float(input(\"Digite o preço da mercadoria:\"))\n",
        "\n",
        "desconto = float(input(\"Digite o percentual de desconto:\"))\n",
        "\n",
        "valor_do_desconto = preço * desconto / 100\n",
        "\n",
        "a_pagar = preço - valor_do_desconto\n",
        "\n",
        "print(\"Um desconto de %5.2f %% em uma mercadoria de R$ %7.2f\" % (desconto, preço))\n",
        "print(\"vale R$ %7.2f.\" % valor_do_desconto)\n",
        "\n",
        "print(\"O valor a pagar é de R$ %7.2f\" % a_pagar)\n"
      ]
    },
    {
      "cell_type": "code",
      "execution_count": null,
      "metadata": {
        "id": "wilUpwRI2FQk"
      },
      "outputs": [],
      "source": [
        "#Escreva um programa que calcule o tempo de uma viagem de carro\n",
        "# Operador “%” é usado para fazer interpolação de strings. \n",
        "\n",
        "distância = float(input(\"Digite a distância em km:\"))\n",
        "velocidade_média = float(input(\"Digite a velocidade média em km/h:\"))\n",
        "tempo = distância / velocidade_média\n",
        "print(\"O tempo estimado é de %5.2f horas\" % tempo)\n",
        "# Opcional: imprimir o tempo em horas, minutos e segundos\n",
        "\n",
        "tempo_s = int(tempo * 3600)  # convertemos de horas para segundos\n",
        "horas = int(tempo_s / 3600)  # parte inteira\n",
        "tempo_s = int(tempo_s % 3600)  # o resto\n",
        "\n",
        "minutos = int(tempo_s / 60)\n",
        "segundos = int(tempo_s % 60)\n",
        "print(\"%05d:%02d:%02d\" % (horas, minutos, segundos))\n",
        "\n",
        "\n"
      ]
    },
    {
      "cell_type": "code",
      "execution_count": null,
      "metadata": {
        "id": "KGigvlpXS7iI"
      },
      "outputs": [],
      "source": [
        "\n",
        "\n",
        "\n",
        "\n",
        "# Escreva um programa que converta os valores em metros e exiba \n",
        "# convertidos em centimetros e milimetros. \n",
        "\n",
        "\n",
        "metros = float(input('Digite o valor em metros:'))\n",
        "print(f'{metros} metros são:\\n {metros * 100:.1f} centímetros | {metros * 1000:.1f}milímetros \\n {metros * 10:.1f} ')\n",
        "\n",
        "\n",
        "\n",
        "\n",
        "\n",
        "\n",
        "\n",
        "\n",
        "\n",
        "\n",
        "\n",
        "\n",
        "\n",
        "\n",
        "\n"
      ]
    },
    {
      "cell_type": "code",
      "execution_count": null,
      "metadata": {
        "id": "3l4f6UxZRVcS"
      },
      "outputs": [],
      "source": [
        "\n",
        "\n",
        "# faça um programa que leia algo pelo teclado e mostre na tela seu \n",
        "# tipo primitivo e todas informações possiveis sobre ele.\n",
        "\n",
        "algo = input('Digite alguma coisa: ')\n",
        "print('O tipo primitivo de {} é'.format(algo), type(algo))\n",
        "print('{} é número?: '.format(algo), algo.isnumeric())\n",
        "print('{} é alfabético? '.format(algo), algo.isalpha())\n",
        "\n",
        "\n"
      ]
    },
    {
      "cell_type": "code",
      "execution_count": null,
      "metadata": {
        "id": "VJxy2UK09Csi"
      },
      "outputs": [],
      "source": []
    },
    {
      "cell_type": "code",
      "execution_count": null,
      "metadata": {
        "id": "WJ665kBGgmIm"
      },
      "outputs": [],
      "source": [
        "n1 = int (input('Digite um valor:'))\n",
        "n2 = int (input('Digite outro valor'))\n",
        "s = n1 + n2 \n",
        "print('A soma entre ',n1, 'e', n2, 'é igual a:',s )"
      ]
    },
    {
      "cell_type": "code",
      "execution_count": null,
      "metadata": {
        "id": "ir75aZn7lFKZ"
      },
      "outputs": [],
      "source": [
        "6 + 8 * 2 "
      ]
    },
    {
      "cell_type": "code",
      "execution_count": null,
      "metadata": {
        "id": "jCCCGusoliAS"
      },
      "outputs": [],
      "source": [
        "# primeiro elevado depois multiplicação ultimo a soma\n",
        "3 * 7 + 2 ** 2"
      ]
    },
    {
      "cell_type": "code",
      "execution_count": null,
      "metadata": {
        "id": "y3B6H7_KloZ-"
      },
      "outputs": [],
      "source": [
        "# primeiro o parentese\n",
        "3 * (7 + 2) ** 2"
      ]
    },
    {
      "cell_type": "code",
      "execution_count": null,
      "metadata": {
        "id": "EPCR-eC5nmL3"
      },
      "outputs": [],
      "source": [
        "585858**976 # numeros grandes "
      ]
    },
    {
      "cell_type": "code",
      "execution_count": null,
      "metadata": {
        "id": "6gfT61tan_YQ"
      },
      "outputs": [],
      "source": [
        "5 + 6 * 2 # primeiro a multiplicação depois a soma"
      ]
    },
    {
      "cell_type": "code",
      "execution_count": null,
      "metadata": {
        "id": "dsGEsKGjoQlA"
      },
      "outputs": [],
      "source": [
        "21 / 2  # Divisão"
      ]
    },
    {
      "cell_type": "code",
      "execution_count": null,
      "metadata": {
        "id": "QQtjTsmNoYae"
      },
      "outputs": [],
      "source": [
        "21 // 2 # divisão inteira "
      ]
    },
    {
      "cell_type": "code",
      "execution_count": null,
      "metadata": {
        "id": "2n2WYhzlpRZO"
      },
      "outputs": [],
      "source": [
        "7 ** 7 # potenciação"
      ]
    },
    {
      "cell_type": "code",
      "execution_count": null,
      "metadata": {
        "id": "R0e8Dt0opzV8"
      },
      "outputs": [],
      "source": [
        "pow(7,7) # potenciação"
      ]
    },
    {
      "cell_type": "code",
      "execution_count": null,
      "metadata": {
        "id": "yE_xbLKUpgCE"
      },
      "outputs": [],
      "source": [
        "25 % 2 # resto "
      ]
    },
    {
      "cell_type": "code",
      "execution_count": null,
      "metadata": {
        "id": "PvK1TKgAp-8G"
      },
      "outputs": [],
      "source": [
        "81** (1/2) # raiz quadrada de 81"
      ]
    },
    {
      "cell_type": "code",
      "execution_count": null,
      "metadata": {
        "id": "p9fMPqwApxhw"
      },
      "outputs": [],
      "source": [
        "25**(1/2) # raiz quadrada de 25"
      ]
    },
    {
      "cell_type": "code",
      "execution_count": null,
      "metadata": {
        "id": "ZzBM31rSqcW8"
      },
      "outputs": [],
      "source": [
        "127**(1/3) # raiz cubica"
      ]
    },
    {
      "cell_type": "code",
      "execution_count": null,
      "metadata": {
        "id": "23VcMWgJPE1W"
      },
      "outputs": [],
      "source": [
        "4*4 # multiplicação \n",
        "\n",
        "\n"
      ]
    },
    {
      "cell_type": "code",
      "execution_count": null,
      "metadata": {
        "id": "AWjseEQqqzrD"
      },
      "outputs": [],
      "source": [
        "'oi' + 'ola'"
      ]
    },
    {
      "cell_type": "code",
      "execution_count": null,
      "metadata": {
        "id": "tDR0dxTTrPge"
      },
      "outputs": [],
      "source": [
        "nome = input('Qual seu nome')\n",
        "print('Prazer em te conhecer{:20}!!'.format(nome))"
      ]
    },
    {
      "cell_type": "code",
      "execution_count": null,
      "metadata": {
        "id": "zpR4TL72sTLx"
      },
      "outputs": [],
      "source": [
        "nome = input('Qual seu nome')\n",
        "print('Prazer em te conhecer{:>20}!!'.format(nome))"
      ]
    },
    {
      "cell_type": "code",
      "execution_count": null,
      "metadata": {
        "id": "zfyX_fa1sal3"
      },
      "outputs": [],
      "source": [
        "nome = input('Qual seu nome')\n",
        "print('Prazer em te conhecer{:<20}!!'.format(nome))"
      ]
    },
    {
      "cell_type": "code",
      "execution_count": null,
      "metadata": {
        "id": "DpqczbuUsjsP"
      },
      "outputs": [],
      "source": [
        "nome = input('Qual seu nome')\n",
        "print('Prazer em te conhecer{:=^20}!!'.format(nome))"
      ]
    },
    {
      "cell_type": "code",
      "execution_count": null,
      "metadata": {
        "id": "-vKkK4uWtRcX"
      },
      "outputs": [],
      "source": [
        "\n",
        "\n",
        "\n",
        "n1 = int(input('um valor:'))\n",
        "n2 = int(input('outro valor '))\n",
        "s = n1 + n2   # soma\n",
        "m = n1 * n2   # Multiplicação\n",
        "d = n1 / n2   # Divisão \n",
        "di = n1 // n2 # Divisão inteira\n",
        "e = n1 ** n2  # potência                       #.3f tres casas flutuantes\n",
        "print('A soma é {},o produto é {},e a divisão é {:.3f} '.format(s, m, d), end=' ')\n",
        "print('Divisão inteira {} e potência{}'.format(di, e))\n",
        "\n"
      ]
    },
    {
      "cell_type": "code",
      "execution_count": null,
      "metadata": {
        "id": "Yg8nby1zyOfJ"
      },
      "outputs": [],
      "source": [
        "# Faça um programa que leia um número inteiro e mostre \n",
        "# seu sucessor e o antecessor. \n",
        "n = int(input('Digite um número:'))\n",
        "a = n - 1 \n",
        "s = n + 1\n",
        "print('Analisando o valor {}, seu antecessor é {}, sucessor é{}' .format(n, a, s))"
      ]
    },
    {
      "cell_type": "code",
      "execution_count": null,
      "metadata": {
        "id": "H9GobamG1ZRA"
      },
      "outputs": [],
      "source": [
        "n = int(input('Digite um número:')\n",
        "print('Analisando o valor {}, seu antecessor é {}, e o sucessor é{}'.format(n, (n-1), (n+1)))"
      ]
    },
    {
      "cell_type": "code",
      "execution_count": null,
      "metadata": {
        "id": "3oiYRW5X2891"
      },
      "outputs": [],
      "source": [
        "# Crie um algoritimo que leia um número e mostre \n",
        "# o seu dobro, triplo, e raiz quadrada. \n",
        "n = int (input('Digite um número:'))\n",
        "dobro = n * 2\n",
        "triplo = n * 3\n",
        "raiz = n **(1/2)\n",
        "print('O dobro de {}. vale {}'.format(n, dobro))\n",
        "print('O triplo de {}. vale {}. A raiz quadrada de {} é igual a {:2f}'.format(n, triplo,n , raiz))\n"
      ]
    },
    {
      "cell_type": "code",
      "execution_count": null,
      "metadata": {
        "id": "wyFVrgEj6VeR"
      },
      "outputs": [],
      "source": [
        "# Crie um algoritimo que leia um número e mostre \n",
        "# o seu dobro, triplo, e raiz quadrada. \n",
        "\n",
        "n = int (input('Digite um número:'))\n",
        "print('O dobro de {}. vale \\n {}'.format(n,(n*2)))\n",
        "print('O triplo de {}. vale {}. A raiz quadrada de{} é igual a {:2f}'.format(n, (n*3), n, (n**(1/2))))\n"
      ]
    },
    {
      "cell_type": "code",
      "execution_count": null,
      "metadata": {
        "colab": {
          "background_save": true
        },
        "id": "zYJNhliJYb14"
      },
      "outputs": [],
      "source": [
        "#Faça um programa que peça uma nota, entre zero e dez. Mostre uma\n",
        "# mensagem  caso o valor seja inválido e continue pedindo até que \n",
        "#o usuário informe um valor válido.\n",
        "\n",
        "nota = float(input(\"Digite uma nota entre zero e 10: \"))\n",
        "\n",
        "while nota > 0 or nota < 10:\n",
        "    nota = float(input(\"Informe um valor válido: \"))\n",
        "    print('A nova Valida é', nota)\n",
        "\n",
        "  "
      ]
    },
    {
      "cell_type": "code",
      "execution_count": null,
      "metadata": {
        "id": "MRgjA_Ya7228"
      },
      "outputs": [],
      "source": [
        "\n",
        "\n",
        "\n",
        "\n",
        "\n",
        "# Aula 03/08/2022\n",
        "#Crie um programa que receba seu (nome idade e peso) e exiba na tela.\n",
        "\n",
        "nome = input('Qual seu nome?')\n",
        "idade = input(' Qual sua idade')\n",
        "peso = float( input('Qual seu peso '))\n",
        "print( 'seu nome é:', nome, ' Sua idade', idade, ' Seu peso:', peso)\n"
      ]
    },
    {
      "cell_type": "code",
      "execution_count": null,
      "metadata": {
        "id": "8eXje-gvclfP"
      },
      "outputs": [],
      "source": [
        "\n",
        "# Crie um script python que leia o nome de uma pessoa, \n",
        "# e mostre uma  mensagem de boas vindas.\n",
        "nome = input(' Qual seu nome?')\n",
        "print('Seja Bem vindo', nome)\n",
        "\n"
      ]
    },
    {
      "cell_type": "code",
      "execution_count": null,
      "metadata": {
        "id": "do49LyLXeofk"
      },
      "outputs": [],
      "source": [
        "\n",
        "# Crie um script python que leia o dia mes e ano de nascimento \n",
        "# de uma pessoa e mostre a mensagem com a data formatada. \n",
        "\n",
        "dia = input('Qual  dia do seu nascimento ?')\n",
        "mes = input('Qual mes vc nasceu?')\n",
        "ano = input('Qual ano vc nasceu?')\n",
        "print('Voce nasceu no ',dia, 'Do mes',mes,'ano ' ,ano,'-----', dia, mes, ano ) \n",
        "\n",
        "\n",
        "\n"
      ]
    },
    {
      "cell_type": "code",
      "execution_count": null,
      "metadata": {
        "id": "x7Mp3aGscZZm"
      },
      "outputs": [],
      "source": [
        "\n",
        "#Faça um algoritmo que pergunte ao usuário quantos anos ele tem,\n",
        "# depois disso, escreva True no console, caso ele já tenha \n",
        "#alcançado a maioridade (18 anos), caso contrário escreva False.\n",
        "idade = int( input(\"Quantos anos você tem? \") )\n",
        "maioridade = idade >= 18\n",
        "maioridade"
      ]
    },
    {
      "cell_type": "code",
      "execution_count": null,
      "metadata": {
        "id": "cEZNZwW7dOLD"
      },
      "outputs": [],
      "source": [
        "\n",
        "#Faça um algoritmo que solicite um número ao usuário, depois disso, \n",
        "#escreva True no console, caso o número tenha dois dígitos \n",
        "#(Esteja entre 10 e 99), caso contrário escreva False.\n",
        "numero = int( input(\"Digite um numero: \") )\n",
        "dois_digitos = numero >= 10 and numero <= 99\n",
        "print(dois_digitos)\n",
        "\n",
        "\n",
        "\n",
        "\n",
        "\n"
      ]
    },
    {
      "cell_type": "code",
      "execution_count": null,
      "metadata": {
        "id": "as8lifYWf7PF"
      },
      "outputs": [],
      "source": [
        "# Fazer um algoritmo que ao receber o salário atual de um funcionário, \n",
        "#calcule o valor do novo salário reajustado de acordo com a tabela abaixo:\n",
        "# Salário atual\tReajuste\n",
        "# Abaixo de R$500,00\t15%\n",
        "# de R$500,00 até R$1000,00\t10%\n",
        "# Acima de R$1000,00\t5%\n",
        "\n",
        "print('\\t ----Cálculo do novo salário ---- ')\n",
        "salario_atual = float(input('Informe o salario atual: '))\n",
        "if (salario_atual < 500):\n",
        "    salario_novo=salario_atual + (salario_atual * 0.15)\n",
        "    print('Salario com reajuste' '=', salario_novo)\n",
        "\n",
        "if ((salario_atual >= 500) and (salario_atual <= 1000)):\n",
        "    salario_novo=salario_atual + (salario_atual * 0.10)\n",
        "    print('Salario com reajuste' '=', salario_novo)\n",
        "\n",
        "if (salario_atual > 1000):\n",
        "    salario_novo=salario_atual + (salario_atual * 0.05)\n",
        "    print('Salario com reajuste' '=', salario_novo)\n",
        "\n"
      ]
    },
    {
      "cell_type": "code",
      "execution_count": null,
      "metadata": {
        "id": "Pxve11xdVzVp",
        "colab": {
          "base_uri": "https://localhost:8080/"
        },
        "outputId": "781b2f90-0a01-4f59-cf35-7b6b08c88ca5"
      },
      "outputs": [
        {
          "name": "stdout",
          "output_type": "stream",
          "text": [
            "informe o salario atual5000\n"
          ]
        }
      ],
      "source": [
        "\n",
        "# calculo do novo salario \n",
        "# Programa que calcula o valor do salario e conceda um aumento de 15 %.\n",
        "# para quem recebe abaixo de 1.500\n",
        "\n",
        "salario_atual = float(input('informe o salario atual'))\n",
        "\n",
        "if (salario_atual <= 1500):\n",
        "\n",
        "  salario_novo = salario_atual +( salario_atual * 0.15)\n",
        "\n",
        "  print('salario com reajuste''=' , salario_novo)\n",
        "  \n",
        " "
      ]
    },
    {
      "cell_type": "code",
      "execution_count": null,
      "metadata": {
        "id": "6rE-30BgyYhb"
      },
      "outputs": [],
      "source": [
        "# Aula 01/08/2022 \n",
        "\n",
        "# Faça um Programa que peça dois números inteiros e imprima a soma.\n",
        "\n",
        "a = int(input(\"Digite o primeiro número:\"))\n",
        "b = int(input(\"Digite o segundo número:\"))\n",
        "print('A soma dos números é', a + b)\n",
        "\n",
        "\n",
        "\n",
        "\n"
      ]
    },
    {
      "cell_type": "code",
      "execution_count": null,
      "metadata": {
        "id": "3WrS7uOIyiKR"
      },
      "outputs": [],
      "source": [
        "# Faça um Programa que peça as 4 notas bimestrais e mostre a média.\n",
        "\n",
        "num1 = float(input('Notas do 1º bimestre:'))\n",
        "num2 = float(input('Notas do 2º bimestre:'))\n",
        "num3 = float(input('Notas do 3º bimestre:'))\n",
        "num4 = float(input('Notas do 4º bimestre:'))\n",
        "\n",
        "print('A sua média foi:', (num1+num2+num3+num4)/4)\n",
        "\n",
        "\n",
        "\n",
        "\n"
      ]
    },
    {
      "cell_type": "code",
      "execution_count": null,
      "metadata": {
        "id": "rJwaXtwYzB50"
      },
      "outputs": [],
      "source": [
        "# Faça um Programa que converta metros para centímetros.\n",
        "\n",
        "\n",
        "print('\\t ----Conversão de medida---- ')\n",
        "metros = float(input('Informe o valor em metros: '))\n",
        "print ('O valor em centimetros é :', metros * 100)\n",
        "\n",
        "# print() é uma função que permite exibir mensagens na tela.\n",
        "#input é uma função que permite obter dados de um usuário.\n",
        "\n",
        "\n",
        "\n"
      ]
    },
    {
      "cell_type": "code",
      "execution_count": null,
      "metadata": {
        "id": "LWlUS4jXzTD9"
      },
      "outputs": [],
      "source": [
        "# Faça um Programa que peça dois números e imprima o maior deles.\n",
        "\n",
        "num1 = float(input('Digite o primeiro número:'))\n",
        "num2 = float(input('Digite o segundo número:'))\n",
        "\n",
        "if num1 > num2:\n",
        "    print('Esse é o maior número:',num1)\n",
        "else:\n",
        "    print('Esse é o maior número:',num2)\n"
      ]
    },
    {
      "cell_type": "code",
      "execution_count": null,
      "metadata": {
        "id": "J3HdmWwuzYW-"
      },
      "outputs": [],
      "source": [
        "# Faça um Programa que peça um valor e mostre na \n",
        "# tela se o valor é positivo ou negativo.\n",
        "\n",
        "n = int(input(\"Digite o número:\"))\n",
        "\n",
        "if(n < 0):\n",
        "\n",
        " print(\"O valor digitado é negativo!\")\n",
        "\n",
        "else:\n",
        "\n",
        " print(\"O valor digitado é positivo!\")\n"
      ]
    },
    {
      "cell_type": "code",
      "execution_count": null,
      "metadata": {
        "id": "WHl8car_aiwY"
      },
      "outputs": [],
      "source": [
        "# Faça um algoritmo em linguagem Python que receba duas notas e calcule a\n",
        "# média aritmética e mostre o resultado.\n",
        "\n",
        "num1 = float(input('Digite o primeira nota:'))\n",
        "num2 = float(input('Digite o segunda  nota:'))\n",
        "print('A sua média foi:', (num1+num2)/2)\n",
        "\n"
      ]
    },
    {
      "cell_type": "code",
      "execution_count": null,
      "metadata": {
        "id": "_f1gH0FAfiQU"
      },
      "outputs": [],
      "source": [
        "# 09) programa Variável recebe dois números e soma e mostre\n",
        " # na tela a soma e a divisão.\n",
        "num1 = 40\n",
        "num2 = 10\n",
        "print('A soma das variaveis é :', num1+num2 )\n",
        "print('A divisão das variaveis é :', num1/num2 )\n"
      ]
    },
    {
      "cell_type": "code",
      "execution_count": null,
      "metadata": {
        "id": "jJtgl3qthP6L"
      },
      "outputs": [],
      "source": [
        "# 10) Faça um programa que receba duas variáveis e \n",
        "# mostre o resultado da multiplicação das variáveis.\n",
        "b = 40\n",
        "a = 6\n",
        "print('A multiplicação das variaveis é :', a * b )\n"
      ]
    },
    {
      "cell_type": "code",
      "execution_count": null,
      "metadata": {
        "id": "s4M58ubB0lwJ"
      },
      "outputs": [],
      "source": [
        "\n",
        "# Escreva um programa que calcule a soma\n",
        "# de três variáveis e imprima o resultado na tela\n",
        "\n",
        "a = 2\n",
        "b = 365\n",
        "c = 4\n",
        "print('A soma das variavéis é:', a + b + c)\n"
      ]
    },
    {
      "cell_type": "code",
      "execution_count": null,
      "metadata": {
        "id": "DFIGm6Nye8vQ"
      },
      "outputs": [],
      "source": [
        " \n",
        " #Faça um programa em Python que leia um valor inteiro e\n",
        " # mostre a tabuada de 1 a 10 do valor lido.\n",
        "\n",
        "print('\\t ----Tabuada---- ')\n",
        "numero = int(input('Informe o numero para ver a tabuada: '))\n",
        "\n",
        "print('\\n Tabuada de', numero, ':')\n",
        "\n",
        "for i in range(1, 11):\n",
        "    print(numero, 'X', i, '=', (numero * i))\n",
        "\n",
        "\n"
      ]
    },
    {
      "cell_type": "code",
      "execution_count": null,
      "metadata": {
        "id": "kngh5tUNfeCR"
      },
      "outputs": [],
      "source": [
        "# Faça um algoritmo em linguagem Python que receba duas notas e calcule a \n",
        "# média aritmética e mostre o resultado.\n",
        "\n",
        "print('\\t ----Cálculo da média aritmética---- ')\n",
        "\n",
        "nota1 = int(input('Informe a primeira nota: '))\n",
        "nota2 = int(input('Informe a segunda nota: '))\n",
        "\n",
        "media = (nota1+ nota2)/2\n",
        "\n",
        "print('Média Aritmética' '=', media)\n",
        "\n",
        "\n"
      ]
    },
    {
      "cell_type": "code",
      "execution_count": null,
      "metadata": {
        "id": "QOKaMDlVgx-b"
      },
      "outputs": [],
      "source": [
        " # Faça um programa que recebendo um valor inteiro,\n",
        " # informe se o número é positivo, negativo ou neutro.\n",
        "\n",
        "print('\\t ---- A dança dos números---- ')\n",
        "x = int(input(\"Informe um número : \"))\n",
        "if x < 0:\n",
        "        print('É um número negativo ')\n",
        "elif x == 0:\n",
        "        print('É um número neutro')\n",
        "elif x > 0:\n",
        "        print('É um número positivo')\n",
        "\n",
        "        "
      ]
    },
    {
      "cell_type": "code",
      "execution_count": null,
      "metadata": {
        "id": "znyrv2d8inEH"
      },
      "outputs": [],
      "source": [
        "# Para realizar a tomada de decisão na Linguagem de Programação Python,\n",
        "# usamos a instrução if, junto(ou não) com elif ou  else. O que é o comando if?\n",
        "# O if é um comando condicional,ou seja, que serve para executar tarefas com\n",
        "# base em condições.\n",
        "# Atenção: ao implementar o comando if em algum problema, podemos ter zero ou \n",
        "# mais partes elif, e a parte else é opcional. Durante os estudos, muitos alunos \n",
        "# perguntam o significado de ‘elif’. Pois bem, a palavra-reservada ‘elif’ é uma\n",
        "# abreviação para ‘else if’, e é útil para evitar indentação excessiva. Uma \n",
        "# sequência if … elif … elif … substitui os comandos switch ou case, encontrados \n",
        "# em outras linguagens.\n",
        "\n",
        "# if , if-else, if-elif-else\n",
        "\n",
        "# O if é uma estrutura de condição que permite avaliar uma expressão e, de acordo \n",
        "# com seu resultado, executar uma determinada ação.\n",
        "# if-else: Utilizamos quando é necessário especificar uma alternativa, para o caso \n",
        "# de a condição do comando if não ser satisfeita. É como se você estivesse dizendo: \n",
        "# se isso acontecer, faça isso, senão...faça aquilo.\n",
        "# if-elif-else: Utilizamos quando, por algum acaso, existir mais de uma condição \n",
        "# alternativa que precisa ser verificada.\n"
      ]
    },
    {
      "cell_type": "code",
      "execution_count": null,
      "metadata": {
        "id": "Z18JZxp505qY"
      },
      "outputs": [],
      "source": [
        "#Escreva um programa para calcular a \n",
        "# redução do tempo de vida de um fumante\n",
        "\n",
        "cigarros_por_dia = int(input(\"Quantidade de cigarros por dia:\"))\n",
        "\n",
        "anos_fumando = float(input(\"Quantidade de anos fumando:\"))\n",
        "\n",
        "redução_em_minutos = anos_fumando * 365 * cigarros_por_dia * 10\n",
        "\n",
        "# Um dia tem 24 x 60 minutos\n",
        "\n",
        "redução_em_dias = redução_em_minutos / (24 * 60)\n",
        "print(\"Redução do tempo de vida %8.2f dias.\" % redução_em_dias)\n",
        "\n",
        "\n"
      ]
    },
    {
      "cell_type": "code",
      "execution_count": null,
      "metadata": {
        "id": "DDl20DkJ4Cvu"
      },
      "outputs": [],
      "source": [
        "# Escreva um programa que pergunte a quantidade\n",
        "#  de km percorridos por um carro alugado pelo usuário\n",
        "km = int(input(\"Digite a quantidade de quilometros percorridos:\"))\n",
        "dias = int(input(\"Digite quantos dias você ficou com o carro:\"))\n",
        "preço_por_dia = 60\n",
        "preço_por_km = 0.15\n",
        "preço_a_pagar = km * preço_por_km + dias * preço_por_dia\n",
        "print(\"Total a pagar: R$ %7.2f\" % preço_a_pagar)"
      ]
    },
    {
      "cell_type": "code",
      "execution_count": null,
      "metadata": {
        "id": "Sgmjl9dY5FQw"
      },
      "outputs": [],
      "source": [
        "# Escreva um programa para aprovar o empréstimo bancário para compra de uma casa\n",
        "valor = float(input(\"Digite o valor da casa: \"))\n",
        "salário = float(input(\"Digite o salário: \"))\n",
        "anos = int(input(\"Quantos anos para pagar: \"))\n",
        "meses = anos * 12\n",
        "prestacao = valor / meses\n",
        "if prestacao > salário * 0.3:\n",
        "    print(\"Infelizmente você não pode obter o empréstimo\")\n",
        "else:\n",
        "    print(f\"Valor da prestação: R$ {prestacao:7.2f} Empréstimo OK\")"
      ]
    },
    {
      "cell_type": "code",
      "execution_count": null,
      "metadata": {
        "id": "X7sRkilc5rSI"
      },
      "outputs": [],
      "source": [
        "# Escreva um programa que pergunte a velocidade do\n",
        "# carro de um usuário e diga se este foi ou não multado\n",
        "velocidade = float(input(\"Digite a velocidade do seu carro:\"))\n",
        "if velocidade > 80:\n",
        "    multa = (velocidade - 80) * 5\n",
        "    print(f\"Você foi multado em R$ {multa:7.2f}!\")\n",
        "if velocidade <= 80:\n",
        "    print(\"Sua velocidade está ok, boa viagem!\")"
      ]
    },
    {
      "cell_type": "code",
      "execution_count": null,
      "metadata": {
        "id": "D6m71zP_QvUJ"
      },
      "outputs": [],
      "source": [
        "nome = \"IFMG Campus Ibirité \"\n",
        "nome"
      ]
    },
    {
      "cell_type": "code",
      "execution_count": null,
      "metadata": {
        "id": "3wd6Lf9FRDRh"
      },
      "outputs": [],
      "source": [
        "x = 100\n",
        "x"
      ]
    },
    {
      "cell_type": "code",
      "execution_count": null,
      "metadata": {
        "id": "Bc_ab_MPQ5UW"
      },
      "outputs": [],
      "source": [
        "ling = \" Isso é python\"\n",
        "ling"
      ]
    },
    {
      "cell_type": "code",
      "execution_count": null,
      "metadata": {
        "id": "6jAFvP1MEBHE"
      },
      "outputs": [],
      "source": [
        "print ('Bem vindo povo interessado em python!' )"
      ]
    },
    {
      "cell_type": "code",
      "execution_count": null,
      "metadata": {
        "id": "00kIcxE2myOh"
      },
      "outputs": [],
      "source": [
        "print(8+6)\n",
        "print(5*4)\n",
        "print(16/3)\n",
        "print(2**3)"
      ]
    },
    {
      "cell_type": "code",
      "execution_count": null,
      "metadata": {
        "id": "sdjm1kpF12aE"
      },
      "outputs": [],
      "source": [
        "idade = 66\n",
        "idade"
      ]
    },
    {
      "cell_type": "code",
      "execution_count": null,
      "metadata": {
        "id": "myp_Att-qiBZ"
      },
      "outputs": [],
      "source": [
        "\n",
        "# elif cria o meio termo (  Regular ) \n",
        "\n",
        "nota = 5\n",
        "if nota >=7:\n",
        "  print('Ótimo!')\n",
        "elif nota >= 5:\n",
        "    print( 'Regular')\n",
        "else:\n",
        "      print('Abaixo da Média')\n",
        "\n"
      ]
    },
    {
      "cell_type": "code",
      "execution_count": null,
      "metadata": {
        "colab": {
          "base_uri": "https://localhost:8080/"
        },
        "id": "LiX00BnXrlDW",
        "outputId": "b92b08bc-5d26-4d6c-eff3-5149d7aa44b7"
      },
      "outputs": [
        {
          "name": "stdout",
          "output_type": "stream",
          "text": [
            "Aprovado\n"
          ]
        }
      ],
      "source": [
        " # programa que receba a nota  calcule a nota e mostre \n",
        " #se está aprovado, reprovado ou abaixo da média. \n",
        "\n",
        "nota = 60\n",
        "if nota >= 60:\n",
        "  print('Aprovado')\n",
        "elif nota >= 50:\n",
        "  print(\"Reprovado\")\n",
        "else:\n",
        "  print('Abaixo da média')\n",
        "  \n"
      ]
    },
    {
      "cell_type": "code",
      "execution_count": null,
      "metadata": {
        "id": "3ECrbL8E0Slk"
      },
      "outputs": [],
      "source": [
        "nome= 'IFMG '\n",
        "print (nome) \n",
        "\n",
        "\n",
        "\n"
      ]
    },
    {
      "cell_type": "code",
      "execution_count": null,
      "metadata": {
        "colab": {
          "base_uri": "https://localhost:8080/"
        },
        "id": "goa8hHMzsanV",
        "outputId": "e2402b5e-8a9f-4927-a444-29cc2ba81138"
      },
      "outputs": [
        {
          "name": "stdout",
          "output_type": "stream",
          "text": [
            "Digite a categoria do produto:4\n"
          ]
        }
      ],
      "source": [
        "# programa categoria x preço, usando elif \n",
        "categoria = int(input('Digite a categoria do produto:'))\n",
        "if categoria == 1:\n",
        "  preço = 10\n",
        "elif categoria == 2:\n",
        "  preço = 18\n",
        "elif categoria == 3:\n",
        "  preço = 23\n",
        "elif categoria == 4:\n",
        "  preço = 26\n",
        "elif categoria == 5:\n",
        "  preço = 31\n",
        "else:\n",
        "  print('Categoria inválida, digite um valor entre 1 e 5!')\n",
        "  preço = 0\n",
        "  print(f\"O preço do produto é: R${preço:6.2f}\")        "
      ]
    },
    {
      "cell_type": "code",
      "execution_count": null,
      "metadata": {
        "id": "kh4FcDInmicx"
      },
      "outputs": [],
      "source": [
        "# complex, ou números complexos, têm uma parte real e outra imaginaria\n",
        "# denotada com um j. Você pode criar números complexos em python com \n",
        "# complex(). o primeiro argumento será a a parte real e o segundo será\n",
        "# a parte imaginária. \n",
        "complex(4,5)\n",
        "(4+5j)"
      ]
    },
    {
      "cell_type": "code",
      "execution_count": null,
      "metadata": {
        "id": "EKUPsHezjvHF"
      },
      "outputs": [],
      "source": [
        " \n",
        " \n",
        " \n",
        " # programa que converta metros em centimetros e milimetros.\n",
        "\n",
        "\n",
        "metros = float(input('Digite o tamanho'))\n",
        "\n",
        "print('O valor {}m em centimetros é {:.0f}' .format(metros, metros *100))\n",
        "\n",
        "print( 'O valor {}m em milimetros é {:.0f}mm'.format(metros , metros *1000))\n",
        "\n",
        "\n"
      ]
    },
    {
      "cell_type": "code",
      "execution_count": null,
      "metadata": {
        "id": "K8f3KlVn0O7V"
      },
      "outputs": [],
      "source": [
        "\n",
        "\n",
        "# Programa que calcula a circunferência do circulo. \n",
        "\n",
        "\n",
        "raio = float(input('Entre com o valor do raio: '))\n",
        "\n",
        "circunferencia = 2 * 3.14 * raio\n",
        "\n",
        "print(\"A circuferência do círculo: {:.2f}\".format(circunferencia))\n",
        "\n",
        "\n",
        "\n",
        "\n"
      ]
    },
    {
      "cell_type": "code",
      "execution_count": null,
      "metadata": {
        "colab": {
          "base_uri": "https://localhost:8080/"
        },
        "id": "qluhVwVPnwVp",
        "outputId": "9b303f5f-a022-4ee4-984b-95cc726397c1"
      },
      "outputs": [
        {
          "data": {
            "text/plain": [
              "(6+8j)"
            ]
          },
          "execution_count": 6,
          "metadata": {},
          "output_type": "execute_result"
        }
      ],
      "source": [
        "complex(6,8)\n",
        "(6+8j)\n"
      ]
    },
    {
      "cell_type": "code",
      "execution_count": null,
      "metadata": {
        "colab": {
          "base_uri": "https://localhost:8080/"
        },
        "id": "sraCBa74n88c",
        "outputId": "d07b4864-352d-4a68-f238-842549af9771"
      },
      "outputs": [
        {
          "data": {
            "text/plain": [
              "(3.4+3.4j)"
            ]
          },
          "execution_count": 8,
          "metadata": {},
          "output_type": "execute_result"
        }
      ],
      "source": [
        "complex(3.4, 3.4)\n",
        "(3.4 + 3.4j)\n"
      ]
    },
    {
      "cell_type": "code",
      "execution_count": null,
      "metadata": {
        "id": "F4DUkdA5aTpB"
      },
      "outputs": [],
      "source": [
        "\n",
        "\n",
        "\n",
        "# programa que calcule a area do triangulo.\n",
        "\n",
        "altura = float (input('Digite a altura do triangulo:'))\n",
        "\n",
        "base = float ( input('Digite a base do triangulo:'))\n",
        "\n",
        "area = (base * altura)/ 2\n",
        "\n",
        "print('A area do triangulo é:' , area)\n",
        "\n",
        "\n",
        "\n"
      ]
    },
    {
      "cell_type": "code",
      "execution_count": null,
      "metadata": {
        "id": "-IGryxITtw_4"
      },
      "outputs": [],
      "source": [
        "# escreva um programa, variável que receba o mome e\n",
        "# exiba seu nome na tela : \n",
        "nome = input( ' Digite seu nome ')\n",
        "print('Seu nome é:', nome)\n",
        "\n",
        "\n",
        "\n",
        "\n"
      ]
    },
    {
      "cell_type": "code",
      "execution_count": null,
      "metadata": {
        "id": "aYWiLlvHRyE_"
      },
      "outputs": [],
      "source": [
        "# Exercício 1 - Crie uma função que imprima a sequência de números pares entre 1 e 20 (a função não recebe parâmetro) e \n",
        "# depois faça uma chamada à função para listar os números\n",
        "def numeros():\n",
        "    for par in range(1,20):\n",
        "        if par % 2 == 0:\n",
        "            print(par)\n",
        "             "
      ]
    },
    {
      "cell_type": "code",
      "execution_count": null,
      "metadata": {
        "id": "9fTMBXKb1dPu"
      },
      "outputs": [],
      "source": [
        "# Pedindo as notas, programa que solicita duas notas e\n",
        "# calcula sua media. \n",
        "prog = float( input(\"Digite a nota de Informatica aplicada \"))\n",
        "circ = float( input(\"Agora a nota de Circuitos Digitais: \") )\n",
        "# Cálculo da média\n",
        "media = (prog + circ) / 2\n",
        "print(\"A média desse estudante foi: \",media)\n"
      ]
    },
    {
      "cell_type": "markdown",
      "metadata": {
        "id": "2m5SCedU280N"
      },
      "source": []
    },
    {
      "cell_type": "code",
      "execution_count": null,
      "metadata": {
        "id": "KEsp1zhxz94T"
      },
      "outputs": [],
      "source": [
        "# String ( caracteres alfanúmericos)\n",
        "# Interger int( números inteiros)\n",
        "# float (Números Fracionados)\n",
        "# boolean ( Booleano )\n",
        "string = \"isso é uma string \"\n",
        "string"
      ]
    },
    {
      "cell_type": "code",
      "execution_count": null,
      "metadata": {
        "id": "t5dziJtzXVdG"
      },
      "outputs": [],
      "source": [
        "\n",
        "\n",
        "# programa que mostre o sucessor e o antecessor. \n",
        "\n",
        "n = int(input('Digite um número: '))\n",
        "a = n - 1\n",
        "s = n + 1\n",
        "print('Analisando o valor {}, seu antecessor é {} e o sucessor é {} '\n",
        ".format(n, a, s))\n",
        "\n",
        "# outra forma de representar o programa. \n",
        "\n",
        "print('Analisando o valor {}, seu antecessor é {} e o sucessor é {} '\n",
        ". format(n, (n-1), (n+1)))\n"
      ]
    },
    {
      "cell_type": "code",
      "execution_count": null,
      "metadata": {
        "id": "uq6t-YVs0lI8"
      },
      "outputs": [],
      "source": [
        "int = 2022\n",
        "int"
      ]
    },
    {
      "cell_type": "code",
      "execution_count": null,
      "metadata": {
        "id": "GJ-_BlfQ0-VM"
      },
      "outputs": [],
      "source": [
        "fracionado = 20.22\n",
        "fracionado"
      ]
    },
    {
      "cell_type": "code",
      "execution_count": null,
      "metadata": {
        "id": "9NhosPrv2Mt8"
      },
      "outputs": [],
      "source": [
        "boolean = True \n",
        "boolean "
      ]
    },
    {
      "cell_type": "code",
      "execution_count": null,
      "metadata": {
        "colab": {
          "base_uri": "https://localhost:8080/"
        },
        "id": "9uTOu_8D2gCd",
        "outputId": "15411fcf-149d-41ea-ae87-8a417bbe9586"
      },
      "outputs": [
        {
          "data": {
            "text/plain": [
              "(1, 2.5)"
            ]
          },
          "execution_count": 22,
          "metadata": {},
          "output_type": "execute_result"
        }
      ],
      "source": [
        "a, b = 1 , 2.50\n",
        "a, b "
      ]
    },
    {
      "cell_type": "code",
      "execution_count": null,
      "metadata": {
        "id": "EioNVMNt2msB"
      },
      "outputs": [],
      "source": [
        "c = d = 2\n",
        "c,d "
      ]
    },
    {
      "cell_type": "code",
      "execution_count": null,
      "metadata": {
        "id": "IGxZniGaDiBs"
      },
      "outputs": [],
      "source": [
        "\n",
        "#Operadores Aritméticos A linguagem Python nos permite criar expressões \n",
        "# matemáticas com imensa facilidade. No dia a dia, nem todos os programas\n",
        "# precisarão de expressões matemáticas complexas, mas é importante saber \n",
        "# como usar os operadores aritméticos do Python.\n",
        " \n",
        "# Soma e subtração\n",
        "print(10 + 2 - 7)\n",
        "# Potência: 2 ^ 4\n",
        "print(2 ** 4)\n",
        "# Divisão de ponto flutuante\n",
        "print(20 / 6)\n",
        "# Divisão inteira, sem considerar o resto\n",
        "print(20 // 6)\n",
        "# Divisão com resto \n",
        "print (20 % 6)\n",
        "\n",
        "\n",
        "\n"
      ]
    },
    {
      "cell_type": "code",
      "execution_count": null,
      "metadata": {
        "id": "HbvBnNvD6ebX"
      },
      "outputs": [],
      "source": [
        "#   Exercício Python 004 - Dissecando uma Variável\n",
        "#   Faça um programa que leia algo pelo teclado\n",
        "#   e mostre na tela o seu tipo primitivo e todas as informações possíveis sobre ele.\n",
        "\n",
        "frase = str(input(\"Digite algo: \"))\n",
        "\n",
        "print(\"O tipo primitivo desse valor é {}\".format(type(frase)))\n",
        "print(\"Só tem espaços? {}\".format(frase.isspace()))\n",
        "print(\"É um número? {}\".format(frase.isnumeric()))\n",
        "print(\"É alfabético? {}\".format(frase.isalpha()))\n",
        "print(\"É alfanumérico? {}\".format(frase.isalnum()))\n",
        "print(\"Esta em maiúsculas? {}\".format(frase.isupper()))\n",
        "print(\"Esta em minúsculas? {}\".format(frase.islower()))\n",
        "print(\"Esta capilatizado? {}\".format(frase.istitle()))"
      ]
    },
    {
      "cell_type": "code",
      "execution_count": null,
      "metadata": {
        "colab": {
          "background_save": true,
          "base_uri": "https://localhost:8080/"
        },
        "id": "m2uZG9py6xaN",
        "outputId": "859bd7f0-62cc-42d3-969f-053bafb5e6c3"
      },
      "outputs": [
        {
          "name": "stdout",
          "output_type": "stream",
          "text": [
            "\n",
            "Jogador  1\n",
            " _   _   _  \n",
            " _   _   _  \n",
            " _   _   _  \n"
          ]
        }
      ],
      "source": [
        "\n",
        "def menu():\n",
        "    continuar=1\n",
        "    while continuar:\n",
        "        continuar = int(input(\"0. Sair \\n\"+\n",
        "                              \"1. Jogar novamente\\n\"))\n",
        "        if continuar:\n",
        "            game()\n",
        "        else:\n",
        "            print(\"Saindo...\")\n",
        "\n",
        "def game():\n",
        "    jogada=0\n",
        "\n",
        "    while ganhou() == 0:\n",
        "        print(\"\\nJogador \", jogada%2 + 1)\n",
        "        exibe()\n",
        "        linha  = int(input(\"\\nLinha :\"))\n",
        "        coluna = int(input(\"Coluna:\"))\n",
        "\n",
        "        if board[linha-1][coluna-1] == 0:\n",
        "            if(jogada%2+1)==1:\n",
        "                board[linha-1][coluna-1]=1\n",
        "            else:\n",
        "                board[linha-1][coluna-1]=-1\n",
        "        else:\n",
        "            print(\"Nao esta vazio\")\n",
        "            jogada -=1\n",
        "\n",
        "        if ganhou():\n",
        "            print(\"Jogador \",jogada%2 + 1,\" ganhou apos \", jogada+1,\" rodadas\")\n",
        "\n",
        "        jogada +=1\n",
        "    \n",
        "def ganhou():\n",
        "    #checando linhas\n",
        "    for i in range(3):\n",
        "        soma = board[i][0]+board[i][1]+board[i][2]\n",
        "        if soma==3 or soma ==-3:\n",
        "            return 1\n",
        "\n",
        "     #checando colunas\n",
        "    for i in range(3):\n",
        "        soma = board[0][i]+board[1][i]+board[2][i]\n",
        "        if soma==3 or soma ==-3:\n",
        "            return 1\n",
        "\n",
        "    #checando diagonais\n",
        "    diagonal1 = board[0][0]+board[1][1]+board[2][2]\n",
        "    diagonal2 = board[0][2]+board[1][1]+board[2][0]\n",
        "    if diagonal1==3 or diagonal1==-3 or diagonal2==3 or diagonal2==-3:\n",
        "        return 1\n",
        "\n",
        "    return 0\n",
        "\n",
        "def exibe():\n",
        "    for i in range(3):\n",
        "        for j in range(3):\n",
        "            if board[i][j] == 0:\n",
        "                print(\" _ \", end=' ')\n",
        "            elif board[i][j] == 1:\n",
        "                print(\" X \", end=' ')\n",
        "\n",
        "            elif board[i][j] == -1:\n",
        "                print(\" O \", end=' ')\n",
        "\n",
        "        print()\n",
        "                \n",
        "\n",
        "board= [ [0,0,0],\n",
        "         [0,0,0],\n",
        "         [0,0,0] ]\n",
        "\n",
        "menu()"
      ]
    },
    {
      "cell_type": "code",
      "execution_count": null,
      "metadata": {
        "id": "QuK6w097KbV7"
      },
      "outputs": [],
      "source": [
        "n = 6\n",
        "fatorial = 1\n",
        "while n > 1:\n",
        "  fatorial *= n \n",
        "  n -= 1 \n",
        "print(fatorial)"
      ]
    },
    {
      "cell_type": "code",
      "execution_count": null,
      "metadata": {
        "id": "DOXg1s0zK7DA"
      },
      "outputs": [],
      "source": [
        "# Exemplo de função que retorna um valor.\n",
        "def f(n):\n",
        "    return n \n",
        "resultado = f(10)\n",
        "print(\"O valor do parâmetro é {}\".format(resultado))"
      ]
    },
    {
      "cell_type": "code",
      "execution_count": null,
      "metadata": {
        "id": "md95g7LHLLyd"
      },
      "outputs": [],
      "source": [
        "# Outro exemplo de função que retorna um valor.\n",
        "def eleva_ao_quadrado(n):\n",
        " return n ** 2\n",
        "print(\"O número {} elevado ao quadrado é {}\".format(10, eleva_ao_quadrado(10)))"
      ]
    },
    {
      "cell_type": "code",
      "execution_count": null,
      "metadata": {
        "id": "fstJjISWLXqP"
      },
      "outputs": [],
      "source": [
        "# Exemplo de função que retorna mais de um valor.\n",
        "def quociente_resto(x, y):\n",
        "    quociente = x // y\n",
        "    resto = x % y\n",
        "    return (quociente, resto)\n",
        "\n",
        "print(\"Quociente e resto: \", quociente_resto(9, 4))"
      ]
    },
    {
      "cell_type": "code",
      "execution_count": null,
      "metadata": {
        "id": "TEJstBdoLtBD"
      },
      "outputs": [],
      "source": [
        "# Exemplo mais elaborado de função em Python.\n",
        "def fatorial(n):\n",
        "    fat = 1\n",
        "    while n > 1:\n",
        "        fat *= n\n",
        "        n -= 1\n",
        "    return fat\n",
        "print(\"O fatorial de {} é {}\".format(6, fatorial(6)))"
      ]
    },
    {
      "cell_type": "code",
      "execution_count": null,
      "metadata": {
        "colab": {
          "base_uri": "https://localhost:8080/"
        },
        "id": "RzrHtzQcgJte",
        "outputId": "67ef106b-9e23-45da-be25-41762252d072"
      },
      "outputs": [
        {
          "name": "stdout",
          "output_type": "stream",
          "text": [
            "A soma é:  13  O quadrado é: 169\n"
          ]
        }
      ],
      "source": [
        "\n",
        "\n",
        "\n",
        "#Variavel recebe dois numeros e soma e mostre o quadrado\n",
        "# da soma. \n",
        "\n",
        "a = 5\n",
        "b = 8 \n",
        "soma = a + b \n",
        "quadrado = soma**2\n",
        "print( 'A soma é: ', soma, ' O quadrado é:',quadrado )\n",
        "\n",
        "\n",
        "\n"
      ]
    },
    {
      "cell_type": "code",
      "execution_count": null,
      "metadata": {
        "colab": {
          "base_uri": "https://localhost:8080/"
        },
        "id": "FmGsFEsThaM2",
        "outputId": "e0ad5996-cabb-4deb-8a64-32118db47822"
      },
      "outputs": [
        {
          "name": "stdout",
          "output_type": "stream",
          "text": [
            "A soma é 13\n"
          ]
        }
      ],
      "source": [
        "# Algoritimo que some dois numeros e mostre se a soma é 13.\n",
        "a = 5\n",
        "b = 8\n",
        "soma = a + b \n",
        "if soma == 13:\n",
        "  print('A soma é 13')\n",
        "else:\n",
        "  print('A soma não é 13')\n",
        "\n"
      ]
    },
    {
      "cell_type": "code",
      "execution_count": null,
      "metadata": {
        "id": "SrafEqvXP-Vr"
      },
      "outputs": [],
      "source": [
        "def soma(x,y):\n",
        " total = x+y\n",
        " print(\"Total soma = \",total)\n",
        "#programa principal\n",
        "total = 10\n",
        "soma(3,5)\n",
        "print(\"Total principal = \",total)"
      ]
    },
    {
      "cell_type": "code",
      "execution_count": null,
      "metadata": {
        "id": "emOacnmqoopn"
      },
      "outputs": [],
      "source": [
        "# 7) Faça um Programa que calcule a área de um quadrado, \n",
        "# em seguida mostre o dobro desta área para o usuário.  \n",
        " \n",
        "lado = float(input(\"Informe o lado do quadrado\"))\n",
        "area = lado * lado\n",
        "dobro = (area * 2)\n",
        "print(\"A área é do Quadrado é:\",area,\"e o dobro é \", dobro)\n",
        "\n",
        "\n",
        "\n"
      ]
    },
    {
      "cell_type": "markdown",
      "metadata": {
        "id": "WYtMrB4HFaDq"
      },
      "source": [
        "## variaveis em boolean"
      ]
    },
    {
      "cell_type": "code",
      "execution_count": null,
      "metadata": {
        "id": "3jtFLlSjmGc2",
        "colab": {
          "base_uri": "https://localhost:8080/"
        },
        "outputId": "084c397e-c2b6-4072-a3a8-fb7cf0028f3e"
      },
      "outputs": [
        {
          "output_type": "stream",
          "name": "stdout",
          "text": [
            "0\n",
            "1\n",
            "2\n",
            "3\n",
            "4\n",
            "5\n",
            "6\n",
            "7\n"
          ]
        }
      ],
      "source": [
        "for n in range(8):\n",
        "  print(n)"
      ]
    },
    {
      "cell_type": "code",
      "execution_count": null,
      "metadata": {
        "colab": {
          "base_uri": "https://localhost:8080/"
        },
        "id": "4F5-NidyCyJp",
        "outputId": "ca877636-31c7-4e84-e76e-fa4bcc8682f6"
      },
      "outputs": [
        {
          "output_type": "stream",
          "name": "stdout",
          "text": [
            "[9.0, 8.0, 10.0, 7.0, 7.5, 10.0, 7.0]\n"
          ]
        }
      ],
      "source": [
        "# Controle de fluxo por repetição (for, while)\n",
        "notas = [0, 0, 9.0, 8.0, 5.0, 10.0, 7.0, 7.5, 4.0, 10.0, 7.0,]\n",
        "\n",
        "notas_validas = [nota for nota in notas if nota > 6.0]\n",
        "print(notas_validas)\n",
        "\n",
        "\n"
      ]
    },
    {
      "cell_type": "code",
      "execution_count": null,
      "metadata": {
        "id": "QXVI7K-ePPza",
        "colab": {
          "base_uri": "https://localhost:8080/"
        },
        "outputId": "75ee9961-222f-4c86-8c47-3adb837b2627"
      },
      "outputs": [
        {
          "output_type": "stream",
          "name": "stdout",
          "text": [
            "2*1=2\n",
            "2*2=4\n",
            "2*3=6\n",
            "2*4=8\n",
            "2*5=10\n",
            "2*6=12\n",
            "2*7=14\n",
            "2*8=16\n",
            "2*9=18\n",
            "2*10=20\n"
          ]
        }
      ],
      "source": [
        "#taboada de 2 no laço de repetição for \n",
        "\n",
        "for i in range(1,11):\n",
        "  \n",
        "  print(f\"2*{i}={2*i}\")\n"
      ]
    },
    {
      "cell_type": "code",
      "execution_count": null,
      "metadata": {
        "id": "jHxs2bRzFGCG"
      },
      "outputs": [],
      "source": [
        "[9.0, 8.0, 5.0, 10.0, 7.0, 7.5, 4.0, 10.0, 7.0, 7.0, 8.0, 8.0, 7.5]\n",
        "media_valida = sum(notas_validas) / len(notas_validas)\n",
        "print(media_valida)\n",
        "qtd_de_setes = notas.count(7.0)\n",
        "print(qtd_de_setes)\n",
        "qtd_alunos_na_media = notas.count(7.0) + notas.count(7.5) + notas.count(8.0)\n",
        "print(qtd_alunos_na_media)\n",
        "\n",
        "\n"
      ]
    },
    {
      "cell_type": "code",
      "execution_count": null,
      "metadata": {
        "id": "A-bMsl11KhKp"
      },
      "outputs": [],
      "source": [
        "B = ['A','C','D','H']\n",
        "B"
      ]
    },
    {
      "cell_type": "code",
      "execution_count": null,
      "metadata": {
        "id": "S5fzPpatKzau"
      },
      "outputs": [],
      "source": [
        "lista1 = ['a', 'b', 'c'] # união das listas\n",
        "lista2 = [ 'd', 'e', 'f', 'g']\n",
        "uniao = lista1 + lista2 \n",
        "print(uniao)"
      ]
    },
    {
      "cell_type": "code",
      "execution_count": null,
      "metadata": {
        "id": "f8F7SsLZLrdH"
      },
      "outputs": [],
      "source": [
        "h =  [0,1,2] # repetir elementos de uma lista usando o operador\n",
        "h*4"
      ]
    },
    {
      "cell_type": "code",
      "execution_count": null,
      "metadata": {
        "id": "Fdv3fVVOONia"
      },
      "outputs": [],
      "source": [
        "#contruir lista com construtor list() \n",
        "tupla = (1,2,3,4,5)\n",
        "lista = list(tupla)\n",
        "lista"
      ]
    },
    {
      "cell_type": "code",
      "execution_count": null,
      "metadata": {
        "id": "7h6yvB9YzTK6"
      },
      "outputs": [],
      "source": [
        "\n",
        "notas = [0, 0, 9.0, 8.0, 5.0, 10.0, 7.0, 7.5, 4.0, 10.0,7.0,5]\n",
        "qtd_alunos_na_media = 0\n",
        "for nota in notas:\n",
        " if 6.0 <= nota <= 7.0:\n",
        "  qtd_alunos_na_media += 1\n",
        "print(qtd_alunos_na_media)\n",
        "# Programa ira calcular e mostrar quantidade\n",
        "# de alunos na media .\n"
      ]
    },
    {
      "cell_type": "code",
      "execution_count": null,
      "metadata": {
        "id": "iJdggf0YRNSR"
      },
      "outputs": [],
      "source": [
        "# tabuada do 2 com laço de repetição for\n",
        "for i in range(1,11):\n",
        "  print(f\"2*{i} = {2*i}\")"
      ]
    },
    {
      "cell_type": "code",
      "execution_count": null,
      "metadata": {
        "id": "yl1-jQXmi2lt"
      },
      "outputs": [],
      "source": []
    },
    {
      "cell_type": "code",
      "execution_count": null,
      "metadata": {
        "id": "_FrLGirWlfvW"
      },
      "outputs": [],
      "source": [
        "lado = float(input(\"Informe o lado do quadrado\"))\n",
        "area = lado * lado\n",
        "dobro = area * 2\n",
        "print(\"A área é do Quadrado é: \",area, \"e o dobro é \", dobro)"
      ]
    },
    {
      "cell_type": "markdown",
      "metadata": {
        "id": "ok7Ad9vxFyYT"
      },
      "source": [
        "### Atribuição de Variaveis. "
      ]
    },
    {
      "cell_type": "code",
      "execution_count": null,
      "metadata": {
        "id": "IvW5rp4fGBAa"
      },
      "outputs": [],
      "source": [
        "meu_nome = 'Rubens Palhares'\n",
        "print (meu_nome)\n",
        "\n"
      ]
    },
    {
      "cell_type": "code",
      "execution_count": null,
      "metadata": {
        "id": "fy0vYAqombke"
      },
      "outputs": [],
      "source": [
        "\n",
        "\n",
        "\n",
        "for n in range(8):\n",
        "\n",
        "\n",
        "  print('Bem vindo ao Curso Mecatrônica')\n",
        "\n",
        "\n",
        "\n"
      ]
    },
    {
      "cell_type": "code",
      "execution_count": null,
      "metadata": {
        "id": "zb-ohtWAfqV0"
      },
      "outputs": [],
      "source": [
        " \n",
        " \n",
        " # programa que atribua duas variáveis valores inteiros \n",
        " #e some e depois mostre a soma  e o quadrado notas.\n",
        "\n",
        "a = 55\n",
        "b = 80\n",
        "soma = a + b \n",
        "print(soma)\n",
        "soma ** 2  \n",
        "\n",
        "\n",
        "\n",
        "\n"
      ]
    },
    {
      "cell_type": "code",
      "execution_count": null,
      "metadata": {
        "id": "jQFP3tq7vGDX"
      },
      "outputs": [],
      "source": [
        "# programa para mostrar o campo de notas \"otimo\", \"Regular\" e \"Abaixo da media\"\n",
        "for i in range(0,11):\n",
        "  if i >= 7:\n",
        "    print(f'A nota {i} é ótima')\n",
        "  elif i >= 5:\n",
        "    print(f'A nota {i} é regular')\n",
        "  else: \n",
        "    print(f'A nota {i} é abaixo da média')  "
      ]
    },
    {
      "cell_type": "code",
      "execution_count": null,
      "metadata": {
        "id": "fnjynCyVSn7K"
      },
      "outputs": [],
      "source": [
        "10 == 10 # operadores de comparação "
      ]
    },
    {
      "cell_type": "code",
      "execution_count": null,
      "metadata": {
        "id": "9Um97ithSxqm"
      },
      "outputs": [],
      "source": [
        "10 == 11 "
      ]
    },
    {
      "cell_type": "code",
      "execution_count": null,
      "metadata": {
        "id": "IYDCK2UjS1ul"
      },
      "outputs": [],
      "source": [
        "10 >= 5"
      ]
    },
    {
      "cell_type": "code",
      "execution_count": null,
      "metadata": {
        "id": "0AAPBKoXS8Ud"
      },
      "outputs": [],
      "source": [
        "10 > 5"
      ]
    },
    {
      "cell_type": "code",
      "execution_count": null,
      "metadata": {
        "id": "XZAB_dZlTBGk"
      },
      "outputs": [],
      "source": [
        "10 <= 5"
      ]
    },
    {
      "cell_type": "code",
      "execution_count": null,
      "metadata": {
        "id": "TFRj8oizTGnN"
      },
      "outputs": [],
      "source": [
        "10 < 5"
      ]
    },
    {
      "cell_type": "code",
      "execution_count": null,
      "metadata": {
        "id": "gqPHJfNdUmqg"
      },
      "outputs": [],
      "source": [
        "(a > 20) and (a > 2 )"
      ]
    },
    {
      "cell_type": "code",
      "execution_count": null,
      "metadata": {
        "id": "y_ka6hG0VQD_"
      },
      "outputs": [],
      "source": [
        "(a < 20) and not ( a > 2 ) # operador NAND \n",
        "# retornara False se ambas as delcarações forem verdadeiras "
      ]
    },
    {
      "cell_type": "code",
      "execution_count": null,
      "metadata": {
        "id": "un-5kiVWVs1B"
      },
      "outputs": [],
      "source": [
        "(a > 20) and not (a < 2 )"
      ]
    },
    {
      "cell_type": "code",
      "execution_count": null,
      "metadata": {
        "id": "4Bral6wJVz5O"
      },
      "outputs": [],
      "source": [
        "(a!=10 ) or (a > 2) # operador OR\n",
        "#retornará True se pelo menos uma das declarações forem verdadeiras\n",
        "\n",
        "\n",
        "\n"
      ]
    },
    {
      "cell_type": "code",
      "execution_count": null,
      "metadata": {
        "id": "jI4EpCuvq8yU"
      },
      "outputs": [],
      "source": [
        "# operação mostra o resultado inteiro\n",
        "print(16//3)"
      ]
    },
    {
      "cell_type": "code",
      "execution_count": null,
      "metadata": {
        "id": "aflHH-l5rT9k"
      },
      "outputs": [],
      "source": [
        "\n",
        "# operação que mostra o resto da divisão \n",
        "print(5%2)\n",
        "\n",
        "\n",
        "\n",
        "\n",
        "\n"
      ]
    },
    {
      "cell_type": "code",
      "execution_count": null,
      "metadata": {
        "id": "pOPX3oiBsi8Z"
      },
      "outputs": [],
      "source": [
        "variavel1 = 53\n",
        "variavel2 = 74\n",
        "variavel3 = 98\n",
        "variavel4 = 440\n",
        "print(variavel2)\n",
        "\n"
      ]
    },
    {
      "cell_type": "code",
      "execution_count": null,
      "metadata": {
        "id": "EfnWnJ0YtV7Z"
      },
      "outputs": [],
      "source": [
        "#crie um script python que leia o dia, mês e o ano de\n",
        "# nascimento de uma pessoa e mostre uma mensagem com\n",
        "# a data formatada.\n",
        "print('Informe sua data de nascimento')\n",
        "dia = input('Dia')\n",
        "mês = input('Mês')\n",
        "ano = input('Ano')\n",
        "print('Você nasceu dia', dia , 'Mês', mês ,'Ano', ano)"
      ]
    },
    {
      "cell_type": "code",
      "execution_count": null,
      "metadata": {
        "id": "SPH2pWHxLkWz"
      },
      "outputs": [],
      "source": [
        "# Cálculo da área de um triangulo.\n",
        "base = 2\n",
        "altura = 5\n",
        "area = (base * altura) / 2\n",
        "print(area)"
      ]
    },
    {
      "cell_type": "code",
      "execution_count": null,
      "metadata": {
        "id": "HB8NBSn7MKjA"
      },
      "outputs": [],
      "source": [
        "condicao = False\n",
        "if condicao == True:\n",
        "    print(\"A condicao é verdadeira.\")\n",
        "else:\n",
        "    print(\"A condicao é falsa.\")"
      ]
    },
    {
      "cell_type": "code",
      "execution_count": null,
      "metadata": {
        "id": "KWrcNxv8MS1B"
      },
      "outputs": [],
      "source": [
        "\n",
        "\n",
        "condicao_1 = False\n",
        "condicao_2 = False \n",
        "if condicao_1:\n",
        "  print(\"A condicao_1 é verdadeira.\")\n",
        "elif condicao_2:\n",
        "  print(\"A condicao_2 é verdadeira.\")\n",
        "else:\n",
        "  print(\"As condições condicao_1 e condicao_2 são falsas.\")\n",
        "\n",
        "\n",
        "\n",
        "\n"
      ]
    },
    {
      "cell_type": "markdown",
      "metadata": {
        "id": "vPw7Xas424sD"
      },
      "source": []
    },
    {
      "cell_type": "code",
      "execution_count": null,
      "metadata": {
        "id": "M3acBgBKW5W0"
      },
      "outputs": [],
      "source": [
        "n1 = int(input('Digite o primero número '))\n",
        "n2 = int(input('Digite o segundo número '))\n",
        "s = n1+n2\n",
        "\n",
        "print(\"A soma dos seus números é: \", s)"
      ]
    },
    {
      "cell_type": "code",
      "execution_count": null,
      "metadata": {
        "id": "G-7mW6STXKVV"
      },
      "outputs": [],
      "source": [
        "n = int(input('Digite um número: '))\n",
        "a = n - 1\n",
        "s = n + 1\n",
        "print('Analisando o valor {}, seu antecessor é {} e o sucessor é {} '.format(n, a, s))\n",
        "\n",
        "print('Analisando o valor {}, seu antecessor é {} e o sucessor é {} '. format(n, (n-1), (n+1)))"
      ]
    },
    {
      "cell_type": "code",
      "execution_count": null,
      "metadata": {
        "id": "5nxbnh5gYGvC"
      },
      "outputs": [],
      "source": [
        "n = float(input('Quanto você tem na sua carteira? R$ '))\n",
        "c = n / 5.27\n",
        "print(\"Você tem R$ {:.2f} reais que pode comprar U$ {:.2f} dolar: \".format(n , c))"
      ]
    },
    {
      "cell_type": "code",
      "execution_count": null,
      "metadata": {
        "id": "aD4oRhrwYX86"
      },
      "outputs": [],
      "source": [
        "\n",
        "\n",
        "\n",
        "\n",
        "medida = float(input('Digite uma distância em mêtros: '))\n",
        "cm = medida * 100\n",
        "mm = medida * 1000\n",
        "print('A medida de {} corresponde a {:.0f} cm e {:.0f} mm '.format(medida, cm, mm))"
      ]
    },
    {
      "cell_type": "code",
      "execution_count": null,
      "metadata": {
        "id": "PJTr5QMSZP76"
      },
      "outputs": [],
      "source": [
        "\n",
        "\n",
        "\n",
        "num = int(input(\"Digite um numero inteiro \"))\n",
        "if num % 2 == 0:\n",
        "    print('O numero {} é par! '.format(num))\n",
        "else:\n",
        "    print('O numero {} é impar! '. format(num))\n",
        "\n",
        "\n",
        "\n",
        "    "
      ]
    },
    {
      "cell_type": "code",
      "execution_count": null,
      "metadata": {
        "id": "36NtIWXHH5FQ"
      },
      "outputs": [],
      "source": [
        "\n",
        "\n",
        "\n",
        "\n",
        "if (True == False):\n",
        " print('Esse é o Código que será executado caso a declaração seja verdadeira')\n",
        "else:\n",
        " print('Esse é o código executado caso a declaração seja Falsa')\n",
        "\n",
        "\n",
        "\n",
        "\n",
        "\n"
      ]
    },
    {
      "cell_type": "code",
      "execution_count": null,
      "metadata": {
        "id": "h9oFlErVY172"
      },
      "outputs": [],
      "source": [
        "\n",
        "# programa que receba nome, idade e peso de uma pessoa e\n",
        "# mostre na tela. \n",
        "\n",
        "nome='Marcos'\n",
        "idade=55\n",
        "peso=87.0\n",
        "\n",
        "print(nome,idade,peso)\n",
        "\n",
        "\n",
        "\n"
      ]
    },
    {
      "cell_type": "code",
      "execution_count": null,
      "metadata": {
        "id": "S7P9PKBSYKZL"
      },
      "outputs": [],
      "source": [
        "for i in range(1,11):\n",
        "  print(f\"2*{i} = {2*i}\")"
      ]
    },
    {
      "cell_type": "code",
      "execution_count": null,
      "metadata": {
        "id": "9ICyFspMf8oh"
      },
      "outputs": [],
      "source": [
        "for i in range (0,11):\n",
        "  if i > 7:\n",
        "    print(f\"A nota {i} é otima.\")\n",
        "  if i == 5:\n",
        "    print(f\"A nota {i} é regular\")\n",
        "  if i <= 4:\n",
        "    print(f\"A nota {i} é abaixo da média\")"
      ]
    },
    {
      "cell_type": "code",
      "execution_count": null,
      "metadata": {
        "id": "MRgi8XAsgVda"
      },
      "outputs": [],
      "source": [
        "nome_da_lista = []\n",
        "print(nome_da_lista)"
      ]
    },
    {
      "cell_type": "code",
      "execution_count": null,
      "metadata": {
        "id": "i7tpQ7Fr4OQV"
      },
      "outputs": [],
      "source": [
        "nome_da_lista = [ 1, 2,3, \"olá\" , 1.1 ]\n",
        "print(nome_da_lista)"
      ]
    },
    {
      "cell_type": "code",
      "execution_count": null,
      "metadata": {
        "id": "REHgrV3w6BJH"
      },
      "outputs": [],
      "source": [
        "nome_da_lista = [\"Olá, mundo\", [1,2,3,],[\"outra lista\"]]\n",
        "print(nome_da_lista)\n",
        "nome_da_lista.append(60)\n",
        "print(nome_da_lista)\n"
      ]
    },
    {
      "cell_type": "code",
      "execution_count": null,
      "metadata": {
        "id": "JU4mi5eCCZmR",
        "colab": {
          "base_uri": "https://localhost:8080/",
          "height": 235
        },
        "outputId": "70097f35-1add-4fe5-8f76-baed94d0b2a6"
      },
      "outputs": [
        {
          "output_type": "stream",
          "name": "stdout",
          "text": [
            "[45, 50, 55]\n"
          ]
        },
        {
          "output_type": "error",
          "ename": "TypeError",
          "evalue": "ignored",
          "traceback": [
            "\u001b[0;31m---------------------------------------------------------------------------\u001b[0m",
            "\u001b[0;31mTypeError\u001b[0m                                 Traceback (most recent call last)",
            "\u001b[0;32m<ipython-input-24-9299f46f329b>\u001b[0m in \u001b[0;36m<module>\u001b[0;34m\u001b[0m\n\u001b[1;32m      1\u001b[0m \u001b[0mnumeros\u001b[0m \u001b[0;34m=\u001b[0m \u001b[0;34m[\u001b[0m\u001b[0;36m45\u001b[0m\u001b[0;34m,\u001b[0m\u001b[0;36m50\u001b[0m\u001b[0;34m,\u001b[0m\u001b[0;36m55\u001b[0m\u001b[0;34m]\u001b[0m\u001b[0;34m\u001b[0m\u001b[0;34m\u001b[0m\u001b[0m\n\u001b[1;32m      2\u001b[0m \u001b[0mprint\u001b[0m\u001b[0;34m(\u001b[0m\u001b[0mnumeros\u001b[0m\u001b[0;34m)\u001b[0m\u001b[0;34m\u001b[0m\u001b[0;34m\u001b[0m\u001b[0m\n\u001b[0;32m----> 3\u001b[0;31m \u001b[0mnumeros\u001b[0m\u001b[0;34m.\u001b[0m\u001b[0minsert\u001b[0m\u001b[0;34m(\u001b[0m\u001b[0;34m)\u001b[0m\u001b[0;34m\u001b[0m\u001b[0;34m\u001b[0m\u001b[0m\n\u001b[0m\u001b[1;32m      4\u001b[0m \u001b[0mprint\u001b[0m\u001b[0;34m(\u001b[0m\u001b[0mnumeros\u001b[0m\u001b[0;34m)\u001b[0m\u001b[0;34m\u001b[0m\u001b[0;34m\u001b[0m\u001b[0m\n",
            "\u001b[0;31mTypeError\u001b[0m: insert() takes exactly 2 arguments (0 given)"
          ]
        }
      ],
      "source": [
        "numeros = [45,50,55]\n",
        "print(numeros)\n",
        "numeros.insert()\n",
        "print(numeros)"
      ]
    },
    {
      "cell_type": "code",
      "execution_count": null,
      "metadata": {
        "id": "WtVAZa_TJvo_"
      },
      "outputs": [],
      "source": [
        "numeros=[0,0,0,0] #declaramos uma lista\n",
        "numeros.extend([1,2,3])# adicionamos apenas os números da interavél\n",
        "print(numeros)\n"
      ]
    },
    {
      "cell_type": "code",
      "execution_count": null,
      "metadata": {
        "id": "O3LHpMVhKWBp"
      },
      "outputs": [],
      "source": [
        "numeros.extend((4,5,6))#adicionamos os numeros a tupla\n",
        "print(numeros)"
      ]
    },
    {
      "cell_type": "code",
      "execution_count": null,
      "metadata": {
        "id": "X4zW2MqGRHjc"
      },
      "outputs": [],
      "source": [
        "numeros.insert(0,11)\n",
        "print(numeros)"
      ]
    },
    {
      "cell_type": "code",
      "execution_count": null,
      "metadata": {
        "id": "i57dRGdujDX3"
      },
      "outputs": [],
      "source": []
    },
    {
      "cell_type": "code",
      "execution_count": null,
      "metadata": {
        "id": "QBqOdTo_RQhk"
      },
      "outputs": [],
      "source": [
        "numeros = [10,11,12,13]\n",
        "print(numeros)\n",
        "numeros.remove(10)\n",
        "print(numeros)"
      ]
    },
    {
      "cell_type": "code",
      "execution_count": null,
      "metadata": {
        "id": "uCsqYHeCjCSk"
      },
      "outputs": [],
      "source": [
        "#pop remove e retorna o elemento com indice especificado\n",
        "numeros= ['k','m','z','a','b','k']\n",
        "print(numeros)\n",
        "numeros.pop(1)"
      ]
    },
    {
      "cell_type": "code",
      "execution_count": null,
      "metadata": {
        "id": "jfzXcpgmj-bL"
      },
      "outputs": [],
      "source": [
        "numeros=['k','m','z','a','b']\n",
        "numeros.pop(3)"
      ]
    },
    {
      "cell_type": "code",
      "execution_count": null,
      "metadata": {
        "id": "LBdiZ0P2gVmF"
      },
      "outputs": [],
      "source": [
        "import math\n",
        " \n",
        "def dividir(num1,num2):\n",
        "    try:\n",
        "        return f'{num1}/{num2}={num1/num2}'\n",
        "    except ZeroDivisionError:\n",
        "        return 'O denominador deve ser diferente de zero.'\n",
        "    except TypeError:\n",
        "        return 'Insira um valor válido.'\n",
        " \n",
        "def menu_principal():\n",
        "    print(\"Calculadora\".center(65,'='))\n",
        "    opcoes()\n",
        "    print('='*65)\n",
        " \n",
        "def opcoes():\n",
        "    print(\"\\t1 - Operações aritiméticas\")\n",
        "    print(\"\\t2 - Funções Logarítimicas e Potência\")\n",
        "    print(\"\\t3 - Funções trigonométricas\")\n",
        "    print(\"\\t4 - Outras opções\")\n",
        "    print(\"\\t5 - Sair\")\n",
        "    \n",
        "def opcoes_1():\n",
        "    print(\"\\t1 - Soma\")\n",
        "    print(\"\\t2 - Subtração\")\n",
        "    print(\"\\t3 - Multiplicação\")\n",
        "    print(\"\\t4 - Divisão\")\n",
        "    print(\"\\t5 - Voltar\")\n",
        "    \n",
        "    \n",
        "def opcoes_2():\n",
        "    print(\"\\t1 - Quadrado\")\n",
        "    print(\"\\t2 - Cubo\")\n",
        "    print(\"\\t3 - Potência\")\n",
        "    print(\"\\t4- Log10\")\n",
        "    print(\"\\t5 - Log\")\n",
        "    print(\"\\t6 - Voltar\")\n",
        " \n",
        "def opcoes_3():\n",
        "    print(\"\\t1 - Seno\")\n",
        "    print(\"\\t2 - Cosseno\")\n",
        "    print(\"\\t3 - Tangente\")\n",
        "    print(\"\\t4 - Voltar\")\n",
        " \n",
        "def opcoes_4():\n",
        "    print(\"\\t1 - Fatorial\")\n",
        "    print(\"\\t2 - Voltar\")\n",
        " \n",
        "def menu_1():\n",
        "    opcao=0\n",
        "    while opcao!=5:\n",
        "        opcao=int(input(\">> \"))\n",
        "        if opcao in range(1,5):\n",
        "            num1=float(input(\"Número 1: \"))\n",
        "            num2=float(input(\"Número 2: \"))\n",
        "            if opcao==1:\n",
        "                print(f'{num1}+{num2}={num1+num2}')\n",
        "            elif opcao==2:\n",
        "                print(f'{num1}-{num2}={num1-num2}')\n",
        "            elif opcao==3:\n",
        "                print(f'{num1} x {num2}={num1*num2}')\n",
        "            else:\n",
        "                print(dividir(num1,num2))\n",
        "                \n",
        "        else:\n",
        "            if opcao!=5:\n",
        "                print('Opção inválida.')\n",
        " \n",
        "                \n",
        "def menu_2():\n",
        "    opcao=0\n",
        "    while opcao!=6:\n",
        "        opcao=int(input(\">> \"))\n",
        "        if opcao in range(1,6):\n",
        "            \n",
        "            if opcao==1 or opcao==2 or opcao==4:\n",
        "                num1=float(input('Número: '))\n",
        "                \n",
        "                if opcao==1:\n",
        "                    print(f'{num1}²={num1**2}')\n",
        "                elif opcao==2:\n",
        "                    print(f'{num1}³={num1**3}')\n",
        "                else:\n",
        "                    print(f'O log de {num1} na base 10 é {math.log10(num1)}')\n",
        "            else:\n",
        "                if opcao==3:\n",
        "                    base=float(input(\"Base da potência: \"))\n",
        "                    exp=float(input(\"Expoente: \"))\n",
        "                    print(f'{base}^{exp}={base**exp}')\n",
        "                if opcao==5:\n",
        "                    base=float(input(\"Base do log: \"))\n",
        "                    num=float(input(\"Número: \"))\n",
        "                    print(f'O log de {num} na base {base} é :{math.log(num,base)}')\n",
        " \n",
        "        else:\n",
        "            if opcao!=6:\n",
        "                print('Opção inválida.')\n",
        "                \n",
        "def menu_3():\n",
        "    opcao=0\n",
        "    while opcao!=4:\n",
        "        opcao=int(input(\">> \"))\n",
        "        if opcao in range(1,4):\n",
        "            num=float(input(\"Número: \"))\n",
        "            if opcao==1:\n",
        "                print(f\"sen({num})={math.sin(num)}\")\n",
        "            elif opcao==2:\n",
        "                print(f\"cos({num})={math.cos(num)}\")\n",
        "            else:\n",
        "                print(f\"tan({num})={math.tan(num)}\")\n",
        "        else:\n",
        "            if opcao!=4:\n",
        "                print('Opção inválida.')\n",
        "def menu_4():\n",
        "    opcao=0\n",
        "    while opcao!=2:\n",
        "        opcao=int(input(\">> \"))\n",
        "        if opcao==1:\n",
        "            num=int(input(\"Digite o número inteiro: \"))\n",
        "            print(f\"{num}!={math.factorial(num)}\")\n",
        "    else:\n",
        "        if opcao!=2:\n",
        "                print('Opção inválida.')\n",
        " \n",
        "def main():\n",
        "    escolha=''\n",
        "    \n",
        "    while escolha!='5':\n",
        "        \n",
        "        menu_principal()\n",
        "        \n",
        "        escolha=input(\">> \")\n",
        "        \n",
        "        if escolha in list('1234'):\n",
        "            \n",
        "            if escolha=='1':\n",
        "                opcoes_1()\n",
        "                menu_1()\n",
        " \n",
        "            elif escolha=='2':\n",
        "                opcoes_2()\n",
        "                menu_2()\n",
        "                \n",
        "            \n",
        "        elif escolha=='3':\n",
        "                opcoes_3()\n",
        "                menu_3()\n",
        "                \n",
        "        elif escolha=='4':\n",
        "                opcoes_4()\n",
        "                menu_4()\n",
        "                \n",
        "        elif escolha=='5':\n",
        "            print(\"Fim do programa\")\n",
        "            \n",
        "        else:\n",
        "            print(\"Opção inválida\")\n",
        "            \n",
        " \n",
        "main()\n",
        "\n",
        "\n",
        "\n",
        "\n"
      ]
    },
    {
      "cell_type": "markdown",
      "metadata": {
        "id": "ICUtWqt2SkLi"
      },
      "source": [
        "\n",
        "\n",
        "1.   Item da lista\n",
        "2.   Item da lista\n",
        "\n"
      ]
    }
  ],
  "metadata": {
    "colab": {
      "collapsed_sections": [],
      "provenance": [],
      "mount_file_id": "1ohaNRoulmY9-1VjGglHoExGLhl3ALWYC",
      "authorship_tag": "ABX9TyNCBvJ9bbSBm/lNU7yW8mLu",
      "include_colab_link": true
    },
    "kernelspec": {
      "display_name": "Python 3",
      "name": "python3"
    },
    "language_info": {
      "name": "python"
    },
    "gpuClass": "standard"
  },
  "nbformat": 4,
  "nbformat_minor": 0
}